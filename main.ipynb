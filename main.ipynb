{
 "cells": [
  {
   "cell_type": "markdown",
   "id": "e2302665",
   "metadata": {},
   "source": [
    "# Zipf Law "
   ]
  },
  {
   "cell_type": "code",
   "execution_count": null,
   "id": "e269c088",
   "metadata": {},
   "outputs": [],
   "source": [
    "import numpy as np\n",
    "import matplotlib.pyplot as plt\n",
    "import pandas as pd\n",
    "import sys\n",
    "import os\n",
    "\n",
    "sys.path.insert(0, os.path.abspath(r'./utils/utils.py'))\n",
    "\n",
    "import utils.utils as utils\n",
    "import plot.plot as plot\n",
    "import utils.class_document as class_document"
   ]
  },
  {
   "cell_type": "code",
   "execution_count": 3,
   "id": "5dbc8bd7",
   "metadata": {},
   "outputs": [],
   "source": [
    "text3 = utils.PDFtoNumpy(\"data/biblia.pdf\")"
   ]
  },
  {
   "cell_type": "code",
   "execution_count": 4,
   "id": "c6fd1281",
   "metadata": {},
   "outputs": [],
   "source": [
    "text3 = utils.pdf2words(\"data/biblia.pdf\")"
   ]
  },
  {
   "cell_type": "code",
   "execution_count": 5,
   "id": "214711b6",
   "metadata": {},
   "outputs": [
    {
     "data": {
      "text/plain": [
       "['SANTA',\n",
       " 'BIBLIA',\n",
       " 'LA',\n",
       " 'SANTA',\n",
       " 'BIBLIA',\n",
       " 'CONTIENE',\n",
       " 'EL',\n",
       " 'ANTIGUO',\n",
       " 'Y',\n",
       " 'NUEVO',\n",
       " 'TESTAMENTO',\n",
       " 'Publicado',\n",
       " 'por',\n",
       " 'La',\n",
       " 'Iglesia',\n",
       " 'de',\n",
       " 'Jesucristo',\n",
       " 'de',\n",
       " 'los',\n",
       " 'Santos',\n",
       " 'de',\n",
       " 'los',\n",
       " 'Últimos',\n",
       " 'Días',\n",
       " 'Salt',\n",
       " 'Lake',\n",
       " 'City',\n",
       " 'Utah',\n",
       " 'EE',\n",
       " 'UU',\n",
       " 'REINA',\n",
       " 'VALERA',\n",
       " '2009',\n",
       " 'Antigua',\n",
       " 'versión',\n",
       " 'de',\n",
       " 'Casiodoro',\n",
       " 'de',\n",
       " 'Reina',\n",
       " '1569',\n",
       " 'Revisada',\n",
       " 'por',\n",
       " 'Cipriano',\n",
       " 'de',\n",
       " 'Valera',\n",
       " '1602',\n",
       " 'Otras',\n",
       " 'revisiones',\n",
       " '1862',\n",
       " '1909',\n",
       " 'Revisada',\n",
       " 'y',\n",
       " 'cotejada',\n",
       " 'con',\n",
       " 'los',\n",
       " 'textos',\n",
       " 'en',\n",
       " 'hebreo',\n",
       " 'arameo',\n",
       " 'y',\n",
       " 'griego',\n",
       " 'Con',\n",
       " 'notas',\n",
       " 'explicativas',\n",
       " 'y',\n",
       " 'pasajes',\n",
       " 'correlacionados',\n",
       " 'con',\n",
       " 'los',\n",
       " 'libros',\n",
       " 'canónicos',\n",
       " 'de',\n",
       " 'La',\n",
       " 'Iglesia',\n",
       " 'de',\n",
       " 'Jesucristo',\n",
       " 'de',\n",
       " 'los',\n",
       " 'Santos',\n",
       " 'de',\n",
       " 'los',\n",
       " 'Últimos',\n",
       " 'Días',\n",
       " '2009',\n",
       " '2015',\n",
       " 'by',\n",
       " 'Intellectual',\n",
       " 'Reserve',\n",
       " 'Inc',\n",
       " 'All',\n",
       " 'rights',\n",
       " 'reserved',\n",
       " 'Printed',\n",
       " 'in',\n",
       " 'the',\n",
       " 'United',\n",
       " 'States',\n",
       " 'of',\n",
       " 'America',\n",
       " '6',\n",
       " '2016',\n",
       " 'English',\n",
       " 'approval',\n",
       " '3',\n",
       " '15',\n",
       " 'Translation',\n",
       " 'approval',\n",
       " '3',\n",
       " '15',\n",
       " 'Translation',\n",
       " 'of',\n",
       " 'the',\n",
       " 'Holy',\n",
       " 'Bible',\n",
       " 'Spanish',\n",
       " 'INTRODUCCIÓN',\n",
       " 'L',\n",
       " 'a',\n",
       " 'Biblia',\n",
       " 'es',\n",
       " 'una',\n",
       " 'colección',\n",
       " 'de',\n",
       " 'escritos',\n",
       " 'antiguos',\n",
       " 'que',\n",
       " 'contienen',\n",
       " 'registros',\n",
       " 'de',\n",
       " 'los',\n",
       " 'tratos',\n",
       " 'y',\n",
       " 'las',\n",
       " 'instrucciones',\n",
       " 'de',\n",
       " 'Dios',\n",
       " 'para',\n",
       " 'con',\n",
       " 'Sus',\n",
       " 'hijos',\n",
       " 'La',\n",
       " 'palabra',\n",
       " 'Biblia',\n",
       " 'es',\n",
       " 'de',\n",
       " 'origen',\n",
       " 'griego',\n",
       " 'y',\n",
       " 'significa',\n",
       " 'los',\n",
       " 'libros',\n",
       " 'Aunque',\n",
       " 'a',\n",
       " 'menudo',\n",
       " 'pen',\n",
       " 'samos',\n",
       " 'en',\n",
       " 'la',\n",
       " 'Santa',\n",
       " 'Biblia',\n",
       " 'como',\n",
       " 'un',\n",
       " 'solo',\n",
       " 'libro',\n",
       " 'en',\n",
       " 'realidad',\n",
       " 'es',\n",
       " 'una',\n",
       " 'biblioteca',\n",
       " 'divina',\n",
       " 'encuadernada',\n",
       " 'en',\n",
       " 'un',\n",
       " 'solo',\n",
       " 'volumen',\n",
       " 'La',\n",
       " 'Biblia',\n",
       " 'se',\n",
       " 'erige',\n",
       " 'como',\n",
       " 'testigo',\n",
       " 'del',\n",
       " 'amor',\n",
       " 'eterno',\n",
       " 'de',\n",
       " 'Dios',\n",
       " 'por',\n",
       " 'Sus',\n",
       " 'hijos',\n",
       " 'y',\n",
       " 'como',\n",
       " 'testimonio',\n",
       " 'de',\n",
       " 'que',\n",
       " 'Jesucristo',\n",
       " 'es',\n",
       " 'el',\n",
       " 'Salvador',\n",
       " 'del',\n",
       " 'mundo',\n",
       " 'de',\n",
       " 'hecho',\n",
       " 'Él',\n",
       " 'es',\n",
       " 'el',\n",
       " 'único',\n",
       " 'medio',\n",
       " 'por',\n",
       " 'el',\n",
       " 'que',\n",
       " 'se',\n",
       " 'logra',\n",
       " 'la',\n",
       " 'vida',\n",
       " 'eterna',\n",
       " 'y',\n",
       " 'la',\n",
       " 'salvación',\n",
       " 'La',\n",
       " 'Biblia',\n",
       " 'se',\n",
       " 'compone',\n",
       " 'de',\n",
       " '66',\n",
       " 'libros',\n",
       " 'y',\n",
       " 'se',\n",
       " 'divide',\n",
       " 'en',\n",
       " 'dos',\n",
       " 'partes',\n",
       " 'el',\n",
       " 'Anti',\n",
       " 'guo',\n",
       " 'Testamento',\n",
       " '39',\n",
       " 'libros',\n",
       " 'y',\n",
       " 'el',\n",
       " 'Nuevo',\n",
       " 'Testamento',\n",
       " '27',\n",
       " 'libros',\n",
       " 'Sus',\n",
       " 'autores',\n",
       " 'provienen',\n",
       " 'de',\n",
       " 'una',\n",
       " 'variedad',\n",
       " 'de',\n",
       " 'orígenes',\n",
       " 'pero',\n",
       " 'todos',\n",
       " 'deseaban',\n",
       " 'compartir',\n",
       " 'el',\n",
       " 'plan',\n",
       " 'de',\n",
       " 'Dios',\n",
       " 'para',\n",
       " 'la',\n",
       " 'redención',\n",
       " 'de',\n",
       " 'Sus',\n",
       " 'hijos',\n",
       " 'Ese',\n",
       " 'plan',\n",
       " 'se',\n",
       " 'centra',\n",
       " 'en',\n",
       " 'Jesu',\n",
       " 'cristo',\n",
       " 'el',\n",
       " 'Mesías',\n",
       " 'de',\n",
       " 'quien',\n",
       " 'tanto',\n",
       " 'los',\n",
       " 'escritores',\n",
       " 'del',\n",
       " 'Antiguo',\n",
       " 'como',\n",
       " 'del',\n",
       " 'Nuevo',\n",
       " 'Testamento',\n",
       " 'testificaron',\n",
       " 'El',\n",
       " 'Antiguo',\n",
       " 'Testamento',\n",
       " 'fue',\n",
       " 'escrito',\n",
       " 'casi',\n",
       " 'en',\n",
       " 'su',\n",
       " 'totalidad',\n",
       " 'en',\n",
       " 'hebreo',\n",
       " 'y',\n",
       " 'se',\n",
       " 'compone',\n",
       " 'de',\n",
       " 'los',\n",
       " 'libros',\n",
       " 'que',\n",
       " 'fueron',\n",
       " 'aceptados',\n",
       " 'como',\n",
       " 'Escritura',\n",
       " 'por',\n",
       " 'los',\n",
       " 'ju',\n",
       " 'díos',\n",
       " 'en',\n",
       " 'la',\n",
       " 'Tierra',\n",
       " 'Santa',\n",
       " 'en',\n",
       " 'la',\n",
       " 'época',\n",
       " 'del',\n",
       " 'ministerio',\n",
       " 'terrenal',\n",
       " 'de',\n",
       " 'Cristo',\n",
       " 'Esos',\n",
       " 'escritos',\n",
       " 'inspirados',\n",
       " 'incluyen',\n",
       " 'una',\n",
       " 'historia',\n",
       " 'del',\n",
       " 'pueblo',\n",
       " 'escogido',\n",
       " 'de',\n",
       " 'Dios',\n",
       " 'desde',\n",
       " 'Adán',\n",
       " 'hasta',\n",
       " 'aproximadamente',\n",
       " '400',\n",
       " 'años',\n",
       " 'antes',\n",
       " 'del',\n",
       " 'nacimiento',\n",
       " 'del',\n",
       " 'Mesías',\n",
       " 'en',\n",
       " 'Belén',\n",
       " 'El',\n",
       " 'Nuevo',\n",
       " 'Testamento',\n",
       " 'fue',\n",
       " 'escrito',\n",
       " 'en',\n",
       " 'su',\n",
       " 'mayoría',\n",
       " 'en',\n",
       " 'griego',\n",
       " 'y',\n",
       " 'se',\n",
       " 'compone',\n",
       " 'de',\n",
       " 'escritos',\n",
       " 'que',\n",
       " 'establecen',\n",
       " 'un',\n",
       " 'registro',\n",
       " 'de',\n",
       " 'la',\n",
       " 'vida',\n",
       " 'de',\n",
       " 'Jesucristo',\n",
       " 'y',\n",
       " 'Sus',\n",
       " 'enseñanzas',\n",
       " 'También',\n",
       " 'contiene',\n",
       " 'instrucciones',\n",
       " 'de',\n",
       " 'los',\n",
       " 'pro',\n",
       " 'fetas',\n",
       " 'y',\n",
       " 'apóstoles',\n",
       " 'a',\n",
       " 'los',\n",
       " 'miembros',\n",
       " 'de',\n",
       " 'la',\n",
       " 'Iglesia',\n",
       " 'después',\n",
       " 'de',\n",
       " 'la',\n",
       " 'resurrección',\n",
       " 'del',\n",
       " 'Salvador',\n",
       " 'La',\n",
       " 'Iglesia',\n",
       " 'de',\n",
       " 'Jesucristo',\n",
       " 'de',\n",
       " 'los',\n",
       " 'Santos',\n",
       " 'de',\n",
       " 'los',\n",
       " 'Últimos',\n",
       " 'Días',\n",
       " 'afirma',\n",
       " 'Cree',\n",
       " 'mos',\n",
       " 'que',\n",
       " 'la',\n",
       " 'Biblia',\n",
       " 'es',\n",
       " 'la',\n",
       " 'palabra',\n",
       " 'de',\n",
       " 'Dios',\n",
       " 'hasta',\n",
       " 'donde',\n",
       " 'esté',\n",
       " 'traducida',\n",
       " 'correc',\n",
       " 'tamente',\n",
       " 'AdeF',\n",
       " '1',\n",
       " '8',\n",
       " 'En',\n",
       " 'esta',\n",
       " 'edición',\n",
       " 'especial',\n",
       " 'se',\n",
       " 'encuentran',\n",
       " 'ayudas',\n",
       " 'para',\n",
       " 'el',\n",
       " 'estudio',\n",
       " 'inspiradas',\n",
       " 'como',\n",
       " 'notas',\n",
       " 'al',\n",
       " 'pie',\n",
       " 'de',\n",
       " 'página',\n",
       " 'encabezamientos',\n",
       " 'de',\n",
       " 'capítulos',\n",
       " 'pasajes',\n",
       " 'correlacionados',\n",
       " 'con',\n",
       " 'la',\n",
       " 'Guía',\n",
       " 'para',\n",
       " 'el',\n",
       " 'Estudio',\n",
       " 'de',\n",
       " 'las',\n",
       " 'Es',\n",
       " 'crituras',\n",
       " 'selecciones',\n",
       " 'de',\n",
       " 'la',\n",
       " 'Traducción',\n",
       " 'de',\n",
       " 'José',\n",
       " 'Smith',\n",
       " 'de',\n",
       " 'la',\n",
       " 'Biblia',\n",
       " 'en',\n",
       " 'inglés',\n",
       " 'así',\n",
       " 'como',\n",
       " 'mapas',\n",
       " 'y',\n",
       " 'fotografías',\n",
       " 'de',\n",
       " 'lugares',\n",
       " 'de',\n",
       " 'las',\n",
       " 'Escrituras',\n",
       " 'Estas',\n",
       " 'ayudas',\n",
       " 'para',\n",
       " 'el',\n",
       " 'estudio',\n",
       " 'de',\n",
       " 'las',\n",
       " 'Escrituras',\n",
       " 'le',\n",
       " 'serán',\n",
       " 'útiles',\n",
       " 'para',\n",
       " 'obte',\n",
       " 'ner',\n",
       " 'una',\n",
       " 'mayor',\n",
       " 'comprensión',\n",
       " 'de',\n",
       " 'la',\n",
       " 'plenitud',\n",
       " 'del',\n",
       " 'evangelio',\n",
       " 'sempiterno',\n",
       " 'de',\n",
       " 'Jesucristo',\n",
       " 'Las',\n",
       " 'notas',\n",
       " 'al',\n",
       " 'pie',\n",
       " 'de',\n",
       " 'página',\n",
       " 'le',\n",
       " 'indican',\n",
       " 'las',\n",
       " 'referencias',\n",
       " 'a',\n",
       " 'pasajes',\n",
       " 'de',\n",
       " 'las',\n",
       " 'Escrituras',\n",
       " 'en',\n",
       " 'la',\n",
       " 'Biblia',\n",
       " 'el',\n",
       " 'Libro',\n",
       " 'de',\n",
       " 'Mormón',\n",
       " 'Doctrina',\n",
       " 'y',\n",
       " 'Convenios',\n",
       " 'y',\n",
       " 'la',\n",
       " 'Perla',\n",
       " 'de',\n",
       " 'Gran',\n",
       " 'Precio',\n",
       " 'que',\n",
       " 'constituyen',\n",
       " 'los',\n",
       " 'libros',\n",
       " 'canónicos',\n",
       " 'de',\n",
       " 'la',\n",
       " 'Iglesia',\n",
       " 'La',\n",
       " 'Biblia',\n",
       " 'y',\n",
       " 'las',\n",
       " 'Escrituras',\n",
       " 'de',\n",
       " 'los',\n",
       " 'últimos',\n",
       " 'días',\n",
       " 'crecerán',\n",
       " 'juntamente',\n",
       " '2',\n",
       " 'Ne',\n",
       " '3',\n",
       " '12',\n",
       " 'y',\n",
       " 'serán',\n",
       " 'uno',\n",
       " 'solo',\n",
       " 'en',\n",
       " 'tu',\n",
       " 'mano',\n",
       " 'Ezeq',\n",
       " '37',\n",
       " '17',\n",
       " 'para',\n",
       " 'declarar',\n",
       " 'al',\n",
       " 'uní',\n",
       " 'sono',\n",
       " 'la',\n",
       " 'realidad',\n",
       " 'viviente',\n",
       " 'de',\n",
       " 'Dios',\n",
       " 'el',\n",
       " 'Padre',\n",
       " 'Eterno',\n",
       " 'y',\n",
       " 'de',\n",
       " 'Su',\n",
       " 'Hijo',\n",
       " 'Jesucristo',\n",
       " 'Génesis',\n",
       " '1',\n",
       " 'Éxodo',\n",
       " '93',\n",
       " 'Levítico',\n",
       " '171',\n",
       " 'Números',\n",
       " '225',\n",
       " 'Deuteronomio',\n",
       " '301',\n",
       " 'Josué',\n",
       " '368',\n",
       " 'Jueces',\n",
       " '410',\n",
       " 'Rut',\n",
       " '453',\n",
       " '1',\n",
       " 'Samuel',\n",
       " '458',\n",
       " '2',\n",
       " 'Samuel',\n",
       " '514',\n",
       " '1',\n",
       " 'Reyes',\n",
       " '560',\n",
       " '2',\n",
       " 'Reyes',\n",
       " '615',\n",
       " '1',\n",
       " 'Crónicas',\n",
       " '665',\n",
       " '2',\n",
       " 'Crónicas',\n",
       " '714',\n",
       " 'Esdras',\n",
       " '773',\n",
       " 'Nehemías',\n",
       " '791',\n",
       " 'Ester',\n",
       " '816',\n",
       " 'Job',\n",
       " '829',\n",
       " 'Salmos',\n",
       " '886',\n",
       " 'Proverbios',\n",
       " '1038',\n",
       " 'Eclesiastés',\n",
       " '1089',\n",
       " 'Cantares',\n",
       " '1102',\n",
       " 'Isaías',\n",
       " '1111',\n",
       " 'Jeremías',\n",
       " '1207',\n",
       " 'Lamentaciones',\n",
       " '1301',\n",
       " 'Ezequiel',\n",
       " '1311',\n",
       " 'Daniel',\n",
       " '1397',\n",
       " 'Oseas',\n",
       " '1423',\n",
       " 'Joel',\n",
       " '1437',\n",
       " 'Amós',\n",
       " '1442',\n",
       " 'Abdías',\n",
       " '1452',\n",
       " 'Jonás',\n",
       " '1454',\n",
       " 'Miqueas',\n",
       " '1458',\n",
       " 'Nahúm',\n",
       " '1465',\n",
       " 'Habacuc',\n",
       " '1468',\n",
       " 'Sofonías',\n",
       " '1472',\n",
       " 'Hageo',\n",
       " '1476',\n",
       " 'Zacarías',\n",
       " '1479',\n",
       " 'Malaquías',\n",
       " '1495',\n",
       " 'TABLA',\n",
       " 'DE',\n",
       " 'MATERIAS',\n",
       " 'Antiguo',\n",
       " 'Testamento',\n",
       " 'Nuevo',\n",
       " 'Testamento',\n",
       " 'Mateo',\n",
       " '1503',\n",
       " 'Marcos',\n",
       " '1567',\n",
       " 'Lucas',\n",
       " '1605',\n",
       " 'Juan',\n",
       " '1669',\n",
       " 'Hechos',\n",
       " '1716',\n",
       " 'Romanos',\n",
       " '1778',\n",
       " '1',\n",
       " 'Corintios',\n",
       " '1807',\n",
       " '2',\n",
       " 'Corintios',\n",
       " '1834',\n",
       " 'Gálatas',\n",
       " '1851',\n",
       " 'Efesios',\n",
       " '1861',\n",
       " 'Filipenses',\n",
       " '1871',\n",
       " 'Colosenses',\n",
       " '1877',\n",
       " '1',\n",
       " 'Tesalonicenses',\n",
       " '1884',\n",
       " '2',\n",
       " 'Tesalonicenses',\n",
       " '1890',\n",
       " '1',\n",
       " 'Timoteo',\n",
       " '1893',\n",
       " '2',\n",
       " 'Timoteo',\n",
       " '1901',\n",
       " 'Tito',\n",
       " '1907',\n",
       " 'Filemón',\n",
       " '1910',\n",
       " 'Hebreos',\n",
       " '1911',\n",
       " 'Santiago',\n",
       " '1933',\n",
       " '1',\n",
       " 'Pedro',\n",
       " '1940',\n",
       " '2',\n",
       " 'Pedro',\n",
       " '1949',\n",
       " '1',\n",
       " 'Juan',\n",
       " '1954',\n",
       " '2',\n",
       " 'Juan',\n",
       " '1963',\n",
       " '3',\n",
       " 'Juan',\n",
       " '1964',\n",
       " 'Judas',\n",
       " '1965',\n",
       " 'Apocalipsis',\n",
       " '1967',\n",
       " 'Apéndice',\n",
       " 'Guía',\n",
       " 'de',\n",
       " 'Referencias',\n",
       " 'de',\n",
       " 'la',\n",
       " 'Santa',\n",
       " 'Biblia',\n",
       " '1',\n",
       " 'Cronología',\n",
       " '15',\n",
       " 'Concordancia',\n",
       " 'entre',\n",
       " 'los',\n",
       " 'Evangelios',\n",
       " '21',\n",
       " 'Traducción',\n",
       " 'de',\n",
       " 'José',\n",
       " 'Smith',\n",
       " '27',\n",
       " 'Mapas',\n",
       " 'bíblicos',\n",
       " '71',\n",
       " 'Fotografías',\n",
       " 'bíblicas',\n",
       " '95',\n",
       " 'ABREVIATURAS',\n",
       " 'Antiguo',\n",
       " 'Testamento',\n",
       " 'Gén',\n",
       " 'Génesis',\n",
       " 'Éx',\n",
       " 'Éxodo',\n",
       " 'Lev',\n",
       " 'Levítico',\n",
       " 'Núm',\n",
       " 'Números',\n",
       " 'Deut',\n",
       " 'Deuteronomio',\n",
       " 'Josué',\n",
       " 'Josué',\n",
       " 'Jue',\n",
       " 'Jueces',\n",
       " 'Rut',\n",
       " 'Rut',\n",
       " '1',\n",
       " 'Sam',\n",
       " '1',\n",
       " 'Samuel',\n",
       " '2',\n",
       " 'Sam',\n",
       " '2',\n",
       " 'Samuel',\n",
       " '1',\n",
       " 'Rey',\n",
       " '1',\n",
       " 'Reyes',\n",
       " '2',\n",
       " 'Rey',\n",
       " '2',\n",
       " 'Reyes',\n",
       " '1',\n",
       " 'Cró',\n",
       " '1',\n",
       " 'Crónicas',\n",
       " '2',\n",
       " 'Cró',\n",
       " '2',\n",
       " 'Crónicas',\n",
       " 'Esd',\n",
       " 'Esdras',\n",
       " 'Neh',\n",
       " 'Nehemías',\n",
       " 'Ester',\n",
       " 'Ester',\n",
       " 'Job',\n",
       " 'Job',\n",
       " 'Sal',\n",
       " 'Salmos',\n",
       " 'Prov',\n",
       " 'Proverbios',\n",
       " 'Ecle',\n",
       " 'Eclesiastés',\n",
       " 'Cant',\n",
       " 'Cantares',\n",
       " 'Isa',\n",
       " 'Isaías',\n",
       " 'Jer',\n",
       " 'Jeremías',\n",
       " 'Lam',\n",
       " 'Lamentaciones',\n",
       " 'Ezeq',\n",
       " 'Ezequiel',\n",
       " 'Dan',\n",
       " 'Daniel',\n",
       " 'Oseas',\n",
       " 'Oseas',\n",
       " 'Joel',\n",
       " 'Joel',\n",
       " 'Amós',\n",
       " 'Amós',\n",
       " 'Abd',\n",
       " 'Abdías',\n",
       " 'Jonás',\n",
       " 'Jonás',\n",
       " 'Miq',\n",
       " 'Miqueas',\n",
       " 'Nahúm',\n",
       " 'Nahúm',\n",
       " 'Hab',\n",
       " 'Habacuc',\n",
       " 'Sof',\n",
       " 'Sofonías',\n",
       " 'Hageo',\n",
       " 'Hageo',\n",
       " 'Zac',\n",
       " 'Zacarías',\n",
       " 'Mal',\n",
       " 'Malaquías',\n",
       " 'Nuevo',\n",
       " 'Testamento',\n",
       " 'Mateo',\n",
       " 'Mateo',\n",
       " 'Mar',\n",
       " 'Marcos',\n",
       " 'Lucas',\n",
       " 'Lucas',\n",
       " 'Juan',\n",
       " 'Juan',\n",
       " 'Hech',\n",
       " 'Hechos',\n",
       " 'Rom',\n",
       " 'Romanos',\n",
       " '1',\n",
       " 'Cor',\n",
       " '1',\n",
       " 'Corintios',\n",
       " '2',\n",
       " 'Cor',\n",
       " '2',\n",
       " 'Corintios',\n",
       " 'Gál',\n",
       " 'Gálatas',\n",
       " 'Efe',\n",
       " 'Efesios',\n",
       " 'Filip',\n",
       " 'Filipenses',\n",
       " 'Col',\n",
       " 'Colosenses',\n",
       " '1',\n",
       " 'Tes',\n",
       " '1',\n",
       " 'Tesalonicenses',\n",
       " '2',\n",
       " 'Tes',\n",
       " '2',\n",
       " 'Tesalonicenses',\n",
       " '1',\n",
       " 'Tim',\n",
       " '1',\n",
       " 'Timoteo',\n",
       " '2',\n",
       " 'Tim',\n",
       " '2',\n",
       " 'Timoteo',\n",
       " 'Tito',\n",
       " 'Tito',\n",
       " 'Filem',\n",
       " 'Filemón',\n",
       " 'Heb',\n",
       " 'Hebreos',\n",
       " 'Stg',\n",
       " 'Santiago',\n",
       " '1',\n",
       " 'Pe',\n",
       " '1',\n",
       " 'Pedro',\n",
       " '2',\n",
       " 'Pe',\n",
       " '2',\n",
       " 'Pedro',\n",
       " '1',\n",
       " 'Juan',\n",
       " '1',\n",
       " 'Juan',\n",
       " '2',\n",
       " 'Juan',\n",
       " '2',\n",
       " 'Juan',\n",
       " '3',\n",
       " 'Juan',\n",
       " '3',\n",
       " 'Juan',\n",
       " 'Judas',\n",
       " 'Judas',\n",
       " 'Apoc',\n",
       " 'Apocalipsis',\n",
       " 'Libro',\n",
       " 'de',\n",
       " 'Mormón',\n",
       " '1',\n",
       " 'Ne',\n",
       " '1',\n",
       " 'Nefi',\n",
       " '2',\n",
       " 'Ne',\n",
       " '2',\n",
       " 'Nefi',\n",
       " 'Jacob',\n",
       " 'Jacob',\n",
       " 'Enós',\n",
       " 'Enós',\n",
       " 'Jarom',\n",
       " 'Jarom',\n",
       " 'Omni',\n",
       " 'Omni',\n",
       " 'P',\n",
       " 'de',\n",
       " 'Morm',\n",
       " 'Palabras',\n",
       " 'de',\n",
       " 'Mormón',\n",
       " 'Mos',\n",
       " 'Mosíah',\n",
       " 'Alma',\n",
       " 'Alma',\n",
       " 'Hel',\n",
       " 'Helamán',\n",
       " '3',\n",
       " 'Ne',\n",
       " '3',\n",
       " 'Nefi',\n",
       " '4',\n",
       " 'Ne',\n",
       " '4',\n",
       " 'Nefi',\n",
       " 'Morm',\n",
       " 'Mormón',\n",
       " 'Éter',\n",
       " 'Éter',\n",
       " 'Moro',\n",
       " 'Moroni',\n",
       " 'Doctrina',\n",
       " 'y',\n",
       " 'Convenios',\n",
       " 'DyC',\n",
       " 'Doctrina',\n",
       " 'y',\n",
       " 'Convenios',\n",
       " 'DO',\n",
       " 'Declaración',\n",
       " 'Oficial',\n",
       " 'Perla',\n",
       " 'de',\n",
       " 'Gran',\n",
       " ...]"
      ]
     },
     "execution_count": 5,
     "metadata": {},
     "output_type": "execute_result"
    }
   ],
   "source": [
    "text3"
   ]
  },
  {
   "cell_type": "code",
   "execution_count": 6,
   "id": "5c5e1061",
   "metadata": {},
   "outputs": [],
   "source": [
    "from collections import Counter"
   ]
  },
  {
   "cell_type": "code",
   "execution_count": 7,
   "id": "5cd9f82e",
   "metadata": {},
   "outputs": [
    {
     "data": {
      "application/vnd.plotly.v1+json": {
       "config": {
        "plotlyServerURL": "https://plot.ly"
       },
       "data": [
        {
         "hovertemplate": "<b>%{hovertext}</b><br>Rango: %{df[\"Rango\"]}<br>Frecuencia: %{y}",
         "hovertext": [
          "de",
          "a",
          "y",
          "que",
          "la",
          "el",
          "los",
          "en",
          "Y",
          "GEE",
          "su",
          "b",
          "se",
          "no",
          "del",
          "con",
          "Jehová",
          "por",
          "para",
          "las",
          "sus",
          "1",
          "al",
          "2",
          "Dios",
          "es",
          "lo",
          "él",
          "3",
          "le",
          "como",
          "tu",
          "4",
          "5",
          "mi",
          "un",
          "Israel",
          "9",
          "7",
          "6",
          "ha",
          "10",
          "8",
          "11",
          "tierra",
          "dijo",
          "12",
          "hijos",
          "13",
          "sobre"
         ],
         "legendgroup": "",
         "marker": {
          "color": {
           "bdata": "m8cAAFq9AABhngAA5FcAAMlVAADlTQAAx0sAAGZCAACHLwAAcSEAAB4gAAB2HwAA+h4AALYdAAD/HAAAHBwAALwbAAB4GgAADxoAAPEZAABQFQAA9xMAANgTAACJEwAAdBMAAMMRAAC8EQAAdRAAAGgPAAC0DgAAgQ4AACgOAADeDQAAcw0AAD0NAADkDAAA1AwAALUMAACxDAAAmgwAACoMAAAhDAAADQwAAAYMAAChCwAAjQsAAHQLAAByCwAAMAsAACcLAAA=",
           "dtype": "i4"
          },
          "coloraxis": "coloraxis",
          "opacity": 0.7,
          "size": {
           "bdata": "m8cAAFq9AABhngAA5FcAAMlVAADlTQAAx0sAAGZCAACHLwAAcSEAAB4gAAB2HwAA+h4AALYdAAD/HAAAHBwAALwbAAB4GgAADxoAAPEZAABQFQAA9xMAANgTAACJEwAAdBMAAMMRAAC8EQAAdRAAAGgPAAC0DgAAgQ4AACgOAADeDQAAcw0AAD0NAADkDAAA1AwAALUMAACxDAAAmgwAACoMAAAhDAAADQwAAAYMAAChCwAAjQsAAHQLAAByCwAAMAsAACcLAAA=",
           "dtype": "i4"
          },
          "sizemode": "area",
          "sizeref": 14.194166666666666,
          "symbol": "circle"
         },
         "mode": "markers",
         "name": "",
         "orientation": "v",
         "showlegend": false,
         "type": "scatter",
         "x": {
          "bdata": "AAECAwQFBgcICQoLDA0ODxAREhMUFRYXGBkaGxwdHh8gISIjJCUmJygpKissLS4vMDE=",
          "dtype": "i1"
         },
         "xaxis": "x",
         "y": {
          "bdata": "m8cAAFq9AABhngAA5FcAAMlVAADlTQAAx0sAAGZCAACHLwAAcSEAAB4gAAB2HwAA+h4AALYdAAD/HAAAHBwAALwbAAB4GgAADxoAAPEZAABQFQAA9xMAANgTAACJEwAAdBMAAMMRAAC8EQAAdRAAAGgPAAC0DgAAgQ4AACgOAADeDQAAcw0AAD0NAADkDAAA1AwAALUMAACxDAAAmgwAACoMAAAhDAAADQwAAAYMAAChCwAAjQsAAHQLAAByCwAAMAsAACcLAAA=",
          "dtype": "i4"
         },
         "yaxis": "y"
        }
       ],
       "layout": {
        "coloraxis": {
         "colorbar": {
          "title": {
           "text": "Frecuencia"
          }
         },
         "colorscale": [
          [
           0,
           "#0d0887"
          ],
          [
           0.1111111111111111,
           "#46039f"
          ],
          [
           0.2222222222222222,
           "#7201a8"
          ],
          [
           0.3333333333333333,
           "#9c179e"
          ],
          [
           0.4444444444444444,
           "#bd3786"
          ],
          [
           0.5555555555555556,
           "#d8576b"
          ],
          [
           0.6666666666666666,
           "#ed7953"
          ],
          [
           0.7777777777777778,
           "#fb9f3a"
          ],
          [
           0.8888888888888888,
           "#fdca26"
          ],
          [
           1,
           "#f0f921"
          ]
         ]
        },
        "legend": {
         "itemsizing": "constant",
         "tracegroupgap": 0
        },
        "template": {
         "data": {
          "bar": [
           {
            "error_x": {
             "color": "#2a3f5f"
            },
            "error_y": {
             "color": "#2a3f5f"
            },
            "marker": {
             "line": {
              "color": "#E5ECF6",
              "width": 0.5
             },
             "pattern": {
              "fillmode": "overlay",
              "size": 10,
              "solidity": 0.2
             }
            },
            "type": "bar"
           }
          ],
          "barpolar": [
           {
            "marker": {
             "line": {
              "color": "#E5ECF6",
              "width": 0.5
             },
             "pattern": {
              "fillmode": "overlay",
              "size": 10,
              "solidity": 0.2
             }
            },
            "type": "barpolar"
           }
          ],
          "carpet": [
           {
            "aaxis": {
             "endlinecolor": "#2a3f5f",
             "gridcolor": "white",
             "linecolor": "white",
             "minorgridcolor": "white",
             "startlinecolor": "#2a3f5f"
            },
            "baxis": {
             "endlinecolor": "#2a3f5f",
             "gridcolor": "white",
             "linecolor": "white",
             "minorgridcolor": "white",
             "startlinecolor": "#2a3f5f"
            },
            "type": "carpet"
           }
          ],
          "choropleth": [
           {
            "colorbar": {
             "outlinewidth": 0,
             "ticks": ""
            },
            "type": "choropleth"
           }
          ],
          "contour": [
           {
            "colorbar": {
             "outlinewidth": 0,
             "ticks": ""
            },
            "colorscale": [
             [
              0,
              "#0d0887"
             ],
             [
              0.1111111111111111,
              "#46039f"
             ],
             [
              0.2222222222222222,
              "#7201a8"
             ],
             [
              0.3333333333333333,
              "#9c179e"
             ],
             [
              0.4444444444444444,
              "#bd3786"
             ],
             [
              0.5555555555555556,
              "#d8576b"
             ],
             [
              0.6666666666666666,
              "#ed7953"
             ],
             [
              0.7777777777777778,
              "#fb9f3a"
             ],
             [
              0.8888888888888888,
              "#fdca26"
             ],
             [
              1,
              "#f0f921"
             ]
            ],
            "type": "contour"
           }
          ],
          "contourcarpet": [
           {
            "colorbar": {
             "outlinewidth": 0,
             "ticks": ""
            },
            "type": "contourcarpet"
           }
          ],
          "heatmap": [
           {
            "colorbar": {
             "outlinewidth": 0,
             "ticks": ""
            },
            "colorscale": [
             [
              0,
              "#0d0887"
             ],
             [
              0.1111111111111111,
              "#46039f"
             ],
             [
              0.2222222222222222,
              "#7201a8"
             ],
             [
              0.3333333333333333,
              "#9c179e"
             ],
             [
              0.4444444444444444,
              "#bd3786"
             ],
             [
              0.5555555555555556,
              "#d8576b"
             ],
             [
              0.6666666666666666,
              "#ed7953"
             ],
             [
              0.7777777777777778,
              "#fb9f3a"
             ],
             [
              0.8888888888888888,
              "#fdca26"
             ],
             [
              1,
              "#f0f921"
             ]
            ],
            "type": "heatmap"
           }
          ],
          "histogram": [
           {
            "marker": {
             "pattern": {
              "fillmode": "overlay",
              "size": 10,
              "solidity": 0.2
             }
            },
            "type": "histogram"
           }
          ],
          "histogram2d": [
           {
            "colorbar": {
             "outlinewidth": 0,
             "ticks": ""
            },
            "colorscale": [
             [
              0,
              "#0d0887"
             ],
             [
              0.1111111111111111,
              "#46039f"
             ],
             [
              0.2222222222222222,
              "#7201a8"
             ],
             [
              0.3333333333333333,
              "#9c179e"
             ],
             [
              0.4444444444444444,
              "#bd3786"
             ],
             [
              0.5555555555555556,
              "#d8576b"
             ],
             [
              0.6666666666666666,
              "#ed7953"
             ],
             [
              0.7777777777777778,
              "#fb9f3a"
             ],
             [
              0.8888888888888888,
              "#fdca26"
             ],
             [
              1,
              "#f0f921"
             ]
            ],
            "type": "histogram2d"
           }
          ],
          "histogram2dcontour": [
           {
            "colorbar": {
             "outlinewidth": 0,
             "ticks": ""
            },
            "colorscale": [
             [
              0,
              "#0d0887"
             ],
             [
              0.1111111111111111,
              "#46039f"
             ],
             [
              0.2222222222222222,
              "#7201a8"
             ],
             [
              0.3333333333333333,
              "#9c179e"
             ],
             [
              0.4444444444444444,
              "#bd3786"
             ],
             [
              0.5555555555555556,
              "#d8576b"
             ],
             [
              0.6666666666666666,
              "#ed7953"
             ],
             [
              0.7777777777777778,
              "#fb9f3a"
             ],
             [
              0.8888888888888888,
              "#fdca26"
             ],
             [
              1,
              "#f0f921"
             ]
            ],
            "type": "histogram2dcontour"
           }
          ],
          "mesh3d": [
           {
            "colorbar": {
             "outlinewidth": 0,
             "ticks": ""
            },
            "type": "mesh3d"
           }
          ],
          "parcoords": [
           {
            "line": {
             "colorbar": {
              "outlinewidth": 0,
              "ticks": ""
             }
            },
            "type": "parcoords"
           }
          ],
          "pie": [
           {
            "automargin": true,
            "type": "pie"
           }
          ],
          "scatter": [
           {
            "fillpattern": {
             "fillmode": "overlay",
             "size": 10,
             "solidity": 0.2
            },
            "type": "scatter"
           }
          ],
          "scatter3d": [
           {
            "line": {
             "colorbar": {
              "outlinewidth": 0,
              "ticks": ""
             }
            },
            "marker": {
             "colorbar": {
              "outlinewidth": 0,
              "ticks": ""
             }
            },
            "type": "scatter3d"
           }
          ],
          "scattercarpet": [
           {
            "marker": {
             "colorbar": {
              "outlinewidth": 0,
              "ticks": ""
             }
            },
            "type": "scattercarpet"
           }
          ],
          "scattergeo": [
           {
            "marker": {
             "colorbar": {
              "outlinewidth": 0,
              "ticks": ""
             }
            },
            "type": "scattergeo"
           }
          ],
          "scattergl": [
           {
            "marker": {
             "colorbar": {
              "outlinewidth": 0,
              "ticks": ""
             }
            },
            "type": "scattergl"
           }
          ],
          "scattermap": [
           {
            "marker": {
             "colorbar": {
              "outlinewidth": 0,
              "ticks": ""
             }
            },
            "type": "scattermap"
           }
          ],
          "scattermapbox": [
           {
            "marker": {
             "colorbar": {
              "outlinewidth": 0,
              "ticks": ""
             }
            },
            "type": "scattermapbox"
           }
          ],
          "scatterpolar": [
           {
            "marker": {
             "colorbar": {
              "outlinewidth": 0,
              "ticks": ""
             }
            },
            "type": "scatterpolar"
           }
          ],
          "scatterpolargl": [
           {
            "marker": {
             "colorbar": {
              "outlinewidth": 0,
              "ticks": ""
             }
            },
            "type": "scatterpolargl"
           }
          ],
          "scatterternary": [
           {
            "marker": {
             "colorbar": {
              "outlinewidth": 0,
              "ticks": ""
             }
            },
            "type": "scatterternary"
           }
          ],
          "surface": [
           {
            "colorbar": {
             "outlinewidth": 0,
             "ticks": ""
            },
            "colorscale": [
             [
              0,
              "#0d0887"
             ],
             [
              0.1111111111111111,
              "#46039f"
             ],
             [
              0.2222222222222222,
              "#7201a8"
             ],
             [
              0.3333333333333333,
              "#9c179e"
             ],
             [
              0.4444444444444444,
              "#bd3786"
             ],
             [
              0.5555555555555556,
              "#d8576b"
             ],
             [
              0.6666666666666666,
              "#ed7953"
             ],
             [
              0.7777777777777778,
              "#fb9f3a"
             ],
             [
              0.8888888888888888,
              "#fdca26"
             ],
             [
              1,
              "#f0f921"
             ]
            ],
            "type": "surface"
           }
          ],
          "table": [
           {
            "cells": {
             "fill": {
              "color": "#EBF0F8"
             },
             "line": {
              "color": "white"
             }
            },
            "header": {
             "fill": {
              "color": "#C8D4E3"
             },
             "line": {
              "color": "white"
             }
            },
            "type": "table"
           }
          ]
         },
         "layout": {
          "annotationdefaults": {
           "arrowcolor": "#2a3f5f",
           "arrowhead": 0,
           "arrowwidth": 1
          },
          "autotypenumbers": "strict",
          "coloraxis": {
           "colorbar": {
            "outlinewidth": 0,
            "ticks": ""
           }
          },
          "colorscale": {
           "diverging": [
            [
             0,
             "#8e0152"
            ],
            [
             0.1,
             "#c51b7d"
            ],
            [
             0.2,
             "#de77ae"
            ],
            [
             0.3,
             "#f1b6da"
            ],
            [
             0.4,
             "#fde0ef"
            ],
            [
             0.5,
             "#f7f7f7"
            ],
            [
             0.6,
             "#e6f5d0"
            ],
            [
             0.7,
             "#b8e186"
            ],
            [
             0.8,
             "#7fbc41"
            ],
            [
             0.9,
             "#4d9221"
            ],
            [
             1,
             "#276419"
            ]
           ],
           "sequential": [
            [
             0,
             "#0d0887"
            ],
            [
             0.1111111111111111,
             "#46039f"
            ],
            [
             0.2222222222222222,
             "#7201a8"
            ],
            [
             0.3333333333333333,
             "#9c179e"
            ],
            [
             0.4444444444444444,
             "#bd3786"
            ],
            [
             0.5555555555555556,
             "#d8576b"
            ],
            [
             0.6666666666666666,
             "#ed7953"
            ],
            [
             0.7777777777777778,
             "#fb9f3a"
            ],
            [
             0.8888888888888888,
             "#fdca26"
            ],
            [
             1,
             "#f0f921"
            ]
           ],
           "sequentialminus": [
            [
             0,
             "#0d0887"
            ],
            [
             0.1111111111111111,
             "#46039f"
            ],
            [
             0.2222222222222222,
             "#7201a8"
            ],
            [
             0.3333333333333333,
             "#9c179e"
            ],
            [
             0.4444444444444444,
             "#bd3786"
            ],
            [
             0.5555555555555556,
             "#d8576b"
            ],
            [
             0.6666666666666666,
             "#ed7953"
            ],
            [
             0.7777777777777778,
             "#fb9f3a"
            ],
            [
             0.8888888888888888,
             "#fdca26"
            ],
            [
             1,
             "#f0f921"
            ]
           ]
          },
          "colorway": [
           "#636efa",
           "#EF553B",
           "#00cc96",
           "#ab63fa",
           "#FFA15A",
           "#19d3f3",
           "#FF6692",
           "#B6E880",
           "#FF97FF",
           "#FECB52"
          ],
          "font": {
           "color": "#2a3f5f"
          },
          "geo": {
           "bgcolor": "white",
           "lakecolor": "white",
           "landcolor": "#E5ECF6",
           "showlakes": true,
           "showland": true,
           "subunitcolor": "white"
          },
          "hoverlabel": {
           "align": "left"
          },
          "hovermode": "closest",
          "mapbox": {
           "style": "light"
          },
          "paper_bgcolor": "white",
          "plot_bgcolor": "#E5ECF6",
          "polar": {
           "angularaxis": {
            "gridcolor": "white",
            "linecolor": "white",
            "ticks": ""
           },
           "bgcolor": "#E5ECF6",
           "radialaxis": {
            "gridcolor": "white",
            "linecolor": "white",
            "ticks": ""
           }
          },
          "scene": {
           "xaxis": {
            "backgroundcolor": "#E5ECF6",
            "gridcolor": "white",
            "gridwidth": 2,
            "linecolor": "white",
            "showbackground": true,
            "ticks": "",
            "zerolinecolor": "white"
           },
           "yaxis": {
            "backgroundcolor": "#E5ECF6",
            "gridcolor": "white",
            "gridwidth": 2,
            "linecolor": "white",
            "showbackground": true,
            "ticks": "",
            "zerolinecolor": "white"
           },
           "zaxis": {
            "backgroundcolor": "#E5ECF6",
            "gridcolor": "white",
            "gridwidth": 2,
            "linecolor": "white",
            "showbackground": true,
            "ticks": "",
            "zerolinecolor": "white"
           }
          },
          "shapedefaults": {
           "line": {
            "color": "#2a3f5f"
           }
          },
          "ternary": {
           "aaxis": {
            "gridcolor": "white",
            "linecolor": "white",
            "ticks": ""
           },
           "baxis": {
            "gridcolor": "white",
            "linecolor": "white",
            "ticks": ""
           },
           "bgcolor": "#E5ECF6",
           "caxis": {
            "gridcolor": "white",
            "linecolor": "white",
            "ticks": ""
           }
          },
          "title": {
           "x": 0.05
          },
          "xaxis": {
           "automargin": true,
           "gridcolor": "white",
           "linecolor": "white",
           "ticks": "",
           "title": {
            "standoff": 15
           },
           "zerolinecolor": "white",
           "zerolinewidth": 2
          },
          "yaxis": {
           "automargin": true,
           "gridcolor": "white",
           "linecolor": "white",
           "ticks": "",
           "title": {
            "standoff": 15
           },
           "zerolinecolor": "white",
           "zerolinewidth": 2
          }
         }
        },
        "title": {
         "text": "Frecuencia de las 50 palabras más comunes"
        },
        "xaxis": {
         "anchor": "y",
         "domain": [
          0,
          1
         ],
         "title": {
          "text": "index"
         }
        },
        "yaxis": {
         "anchor": "x",
         "domain": [
          0,
          1
         ],
         "title": {
          "text": "Frecuencia"
         }
        }
       }
      }
     },
     "metadata": {},
     "output_type": "display_data"
    }
   ],
   "source": [
    "utils.interactive_word_plot(Counter(text3), top_n=50)"
   ]
  },
  {
   "cell_type": "code",
   "execution_count": 26,
   "id": "2d072611",
   "metadata": {},
   "outputs": [
    {
     "data": {
      "application/vnd.plotly.v1+json": {
       "config": {
        "plotlyServerURL": "https://plot.ly"
       },
       "data": [
        {
         "hovertemplate": "<b>%{hovertext}</b><br>Rango: %{x}<br>Frecuencia: %{y}",
         "hovertext": [
          "b",
          "Jehová",
          "por",
          "para",
          "sus",
          "Dios",
          "es",
          "él",
          "le",
          "como",
          "tu",
          "mi",
          "un",
          "Israel",
          "ha",
          "tierra",
          "dijo",
          "hijos",
          "sobre",
          "porque",
          "yo",
          "ellos",
          "me",
          "rey",
          "te",
          "c",
          "hijo",
          "todo",
          "todos",
          "una",
          "casa",
          "ni",
          "he",
          "pueblo",
          "cuando",
          "DyC",
          "os",
          "había",
          "día",
          "contra",
          "tus",
          "vosotros",
          "será",
          "aquí",
          "también",
          "les",
          "No",
          "si",
          "hasta",
          "delante"
         ],
         "legendgroup": "",
         "marker": {
          "color": {
           "bdata": "dh+8G3gaDxpQFXQTwxF1ELQOgQ4oDj0N5AzUDCoMoQuNC3ILJwvHCkgKRwojCvAJ5wmsCbwIrQiXCDcIMgj7B7QHZQdTBywHwQZdBlgGRwZBBiEGBgb4BfIF8AWzBawFqQWnBQ==",
           "dtype": "i2"
          },
          "coloraxis": "coloraxis",
          "opacity": 0.7,
          "size": {
           "bdata": "dh+8G3gaDxpQFXQTwxF1ELQOgQ4oDj0N5AzUDCoMoQuNC3ILJwvHCkgKRwojCvAJ5wmsCbwIrQiXCDcIMgj7B7QHZQdTBywHwQZdBlgGRwZBBiEGBgb4BfIF8AWzBawFqQWnBQ==",
           "dtype": "i2"
          },
          "sizemode": "area",
          "sizeref": 2.237222222222222,
          "symbol": "circle"
         },
         "mode": "markers",
         "name": "",
         "orientation": "v",
         "showlegend": false,
         "type": "scatter",
         "x": {
          "bdata": "AQIDBAUGBwgJCgsMDQ4PEBESExQVFhcYGRobHB0eHyAhIiMkJSYnKCkqKywtLi8wMTI=",
          "dtype": "i1"
         },
         "xaxis": "x",
         "y": {
          "bdata": "dh+8G3gaDxpQFXQTwxF1ELQOgQ4oDj0N5AzUDCoMoQuNC3ILJwvHCkgKRwojCvAJ5wmsCbwIrQiXCDcIMgj7B7QHZQdTBywHwQZdBlgGRwZBBiEGBgb4BfIF8AWzBawFqQWnBQ==",
          "dtype": "i2"
         },
         "yaxis": "y"
        }
       ],
       "layout": {
        "coloraxis": {
         "colorbar": {
          "title": {
           "text": "Frecuencia"
          }
         },
         "colorscale": [
          [
           0,
           "#0d0887"
          ],
          [
           0.1111111111111111,
           "#46039f"
          ],
          [
           0.2222222222222222,
           "#7201a8"
          ],
          [
           0.3333333333333333,
           "#9c179e"
          ],
          [
           0.4444444444444444,
           "#bd3786"
          ],
          [
           0.5555555555555556,
           "#d8576b"
          ],
          [
           0.6666666666666666,
           "#ed7953"
          ],
          [
           0.7777777777777778,
           "#fb9f3a"
          ],
          [
           0.8888888888888888,
           "#fdca26"
          ],
          [
           1,
           "#f0f921"
          ]
         ]
        },
        "legend": {
         "itemsizing": "constant",
         "tracegroupgap": 0
        },
        "template": {
         "data": {
          "bar": [
           {
            "error_x": {
             "color": "#2a3f5f"
            },
            "error_y": {
             "color": "#2a3f5f"
            },
            "marker": {
             "line": {
              "color": "#E5ECF6",
              "width": 0.5
             },
             "pattern": {
              "fillmode": "overlay",
              "size": 10,
              "solidity": 0.2
             }
            },
            "type": "bar"
           }
          ],
          "barpolar": [
           {
            "marker": {
             "line": {
              "color": "#E5ECF6",
              "width": 0.5
             },
             "pattern": {
              "fillmode": "overlay",
              "size": 10,
              "solidity": 0.2
             }
            },
            "type": "barpolar"
           }
          ],
          "carpet": [
           {
            "aaxis": {
             "endlinecolor": "#2a3f5f",
             "gridcolor": "white",
             "linecolor": "white",
             "minorgridcolor": "white",
             "startlinecolor": "#2a3f5f"
            },
            "baxis": {
             "endlinecolor": "#2a3f5f",
             "gridcolor": "white",
             "linecolor": "white",
             "minorgridcolor": "white",
             "startlinecolor": "#2a3f5f"
            },
            "type": "carpet"
           }
          ],
          "choropleth": [
           {
            "colorbar": {
             "outlinewidth": 0,
             "ticks": ""
            },
            "type": "choropleth"
           }
          ],
          "contour": [
           {
            "colorbar": {
             "outlinewidth": 0,
             "ticks": ""
            },
            "colorscale": [
             [
              0,
              "#0d0887"
             ],
             [
              0.1111111111111111,
              "#46039f"
             ],
             [
              0.2222222222222222,
              "#7201a8"
             ],
             [
              0.3333333333333333,
              "#9c179e"
             ],
             [
              0.4444444444444444,
              "#bd3786"
             ],
             [
              0.5555555555555556,
              "#d8576b"
             ],
             [
              0.6666666666666666,
              "#ed7953"
             ],
             [
              0.7777777777777778,
              "#fb9f3a"
             ],
             [
              0.8888888888888888,
              "#fdca26"
             ],
             [
              1,
              "#f0f921"
             ]
            ],
            "type": "contour"
           }
          ],
          "contourcarpet": [
           {
            "colorbar": {
             "outlinewidth": 0,
             "ticks": ""
            },
            "type": "contourcarpet"
           }
          ],
          "heatmap": [
           {
            "colorbar": {
             "outlinewidth": 0,
             "ticks": ""
            },
            "colorscale": [
             [
              0,
              "#0d0887"
             ],
             [
              0.1111111111111111,
              "#46039f"
             ],
             [
              0.2222222222222222,
              "#7201a8"
             ],
             [
              0.3333333333333333,
              "#9c179e"
             ],
             [
              0.4444444444444444,
              "#bd3786"
             ],
             [
              0.5555555555555556,
              "#d8576b"
             ],
             [
              0.6666666666666666,
              "#ed7953"
             ],
             [
              0.7777777777777778,
              "#fb9f3a"
             ],
             [
              0.8888888888888888,
              "#fdca26"
             ],
             [
              1,
              "#f0f921"
             ]
            ],
            "type": "heatmap"
           }
          ],
          "histogram": [
           {
            "marker": {
             "pattern": {
              "fillmode": "overlay",
              "size": 10,
              "solidity": 0.2
             }
            },
            "type": "histogram"
           }
          ],
          "histogram2d": [
           {
            "colorbar": {
             "outlinewidth": 0,
             "ticks": ""
            },
            "colorscale": [
             [
              0,
              "#0d0887"
             ],
             [
              0.1111111111111111,
              "#46039f"
             ],
             [
              0.2222222222222222,
              "#7201a8"
             ],
             [
              0.3333333333333333,
              "#9c179e"
             ],
             [
              0.4444444444444444,
              "#bd3786"
             ],
             [
              0.5555555555555556,
              "#d8576b"
             ],
             [
              0.6666666666666666,
              "#ed7953"
             ],
             [
              0.7777777777777778,
              "#fb9f3a"
             ],
             [
              0.8888888888888888,
              "#fdca26"
             ],
             [
              1,
              "#f0f921"
             ]
            ],
            "type": "histogram2d"
           }
          ],
          "histogram2dcontour": [
           {
            "colorbar": {
             "outlinewidth": 0,
             "ticks": ""
            },
            "colorscale": [
             [
              0,
              "#0d0887"
             ],
             [
              0.1111111111111111,
              "#46039f"
             ],
             [
              0.2222222222222222,
              "#7201a8"
             ],
             [
              0.3333333333333333,
              "#9c179e"
             ],
             [
              0.4444444444444444,
              "#bd3786"
             ],
             [
              0.5555555555555556,
              "#d8576b"
             ],
             [
              0.6666666666666666,
              "#ed7953"
             ],
             [
              0.7777777777777778,
              "#fb9f3a"
             ],
             [
              0.8888888888888888,
              "#fdca26"
             ],
             [
              1,
              "#f0f921"
             ]
            ],
            "type": "histogram2dcontour"
           }
          ],
          "mesh3d": [
           {
            "colorbar": {
             "outlinewidth": 0,
             "ticks": ""
            },
            "type": "mesh3d"
           }
          ],
          "parcoords": [
           {
            "line": {
             "colorbar": {
              "outlinewidth": 0,
              "ticks": ""
             }
            },
            "type": "parcoords"
           }
          ],
          "pie": [
           {
            "automargin": true,
            "type": "pie"
           }
          ],
          "scatter": [
           {
            "fillpattern": {
             "fillmode": "overlay",
             "size": 10,
             "solidity": 0.2
            },
            "type": "scatter"
           }
          ],
          "scatter3d": [
           {
            "line": {
             "colorbar": {
              "outlinewidth": 0,
              "ticks": ""
             }
            },
            "marker": {
             "colorbar": {
              "outlinewidth": 0,
              "ticks": ""
             }
            },
            "type": "scatter3d"
           }
          ],
          "scattercarpet": [
           {
            "marker": {
             "colorbar": {
              "outlinewidth": 0,
              "ticks": ""
             }
            },
            "type": "scattercarpet"
           }
          ],
          "scattergeo": [
           {
            "marker": {
             "colorbar": {
              "outlinewidth": 0,
              "ticks": ""
             }
            },
            "type": "scattergeo"
           }
          ],
          "scattergl": [
           {
            "marker": {
             "colorbar": {
              "outlinewidth": 0,
              "ticks": ""
             }
            },
            "type": "scattergl"
           }
          ],
          "scattermap": [
           {
            "marker": {
             "colorbar": {
              "outlinewidth": 0,
              "ticks": ""
             }
            },
            "type": "scattermap"
           }
          ],
          "scattermapbox": [
           {
            "marker": {
             "colorbar": {
              "outlinewidth": 0,
              "ticks": ""
             }
            },
            "type": "scattermapbox"
           }
          ],
          "scatterpolar": [
           {
            "marker": {
             "colorbar": {
              "outlinewidth": 0,
              "ticks": ""
             }
            },
            "type": "scatterpolar"
           }
          ],
          "scatterpolargl": [
           {
            "marker": {
             "colorbar": {
              "outlinewidth": 0,
              "ticks": ""
             }
            },
            "type": "scatterpolargl"
           }
          ],
          "scatterternary": [
           {
            "marker": {
             "colorbar": {
              "outlinewidth": 0,
              "ticks": ""
             }
            },
            "type": "scatterternary"
           }
          ],
          "surface": [
           {
            "colorbar": {
             "outlinewidth": 0,
             "ticks": ""
            },
            "colorscale": [
             [
              0,
              "#0d0887"
             ],
             [
              0.1111111111111111,
              "#46039f"
             ],
             [
              0.2222222222222222,
              "#7201a8"
             ],
             [
              0.3333333333333333,
              "#9c179e"
             ],
             [
              0.4444444444444444,
              "#bd3786"
             ],
             [
              0.5555555555555556,
              "#d8576b"
             ],
             [
              0.6666666666666666,
              "#ed7953"
             ],
             [
              0.7777777777777778,
              "#fb9f3a"
             ],
             [
              0.8888888888888888,
              "#fdca26"
             ],
             [
              1,
              "#f0f921"
             ]
            ],
            "type": "surface"
           }
          ],
          "table": [
           {
            "cells": {
             "fill": {
              "color": "#EBF0F8"
             },
             "line": {
              "color": "white"
             }
            },
            "header": {
             "fill": {
              "color": "#C8D4E3"
             },
             "line": {
              "color": "white"
             }
            },
            "type": "table"
           }
          ]
         },
         "layout": {
          "annotationdefaults": {
           "arrowcolor": "#2a3f5f",
           "arrowhead": 0,
           "arrowwidth": 1
          },
          "autotypenumbers": "strict",
          "coloraxis": {
           "colorbar": {
            "outlinewidth": 0,
            "ticks": ""
           }
          },
          "colorscale": {
           "diverging": [
            [
             0,
             "#8e0152"
            ],
            [
             0.1,
             "#c51b7d"
            ],
            [
             0.2,
             "#de77ae"
            ],
            [
             0.3,
             "#f1b6da"
            ],
            [
             0.4,
             "#fde0ef"
            ],
            [
             0.5,
             "#f7f7f7"
            ],
            [
             0.6,
             "#e6f5d0"
            ],
            [
             0.7,
             "#b8e186"
            ],
            [
             0.8,
             "#7fbc41"
            ],
            [
             0.9,
             "#4d9221"
            ],
            [
             1,
             "#276419"
            ]
           ],
           "sequential": [
            [
             0,
             "#0d0887"
            ],
            [
             0.1111111111111111,
             "#46039f"
            ],
            [
             0.2222222222222222,
             "#7201a8"
            ],
            [
             0.3333333333333333,
             "#9c179e"
            ],
            [
             0.4444444444444444,
             "#bd3786"
            ],
            [
             0.5555555555555556,
             "#d8576b"
            ],
            [
             0.6666666666666666,
             "#ed7953"
            ],
            [
             0.7777777777777778,
             "#fb9f3a"
            ],
            [
             0.8888888888888888,
             "#fdca26"
            ],
            [
             1,
             "#f0f921"
            ]
           ],
           "sequentialminus": [
            [
             0,
             "#0d0887"
            ],
            [
             0.1111111111111111,
             "#46039f"
            ],
            [
             0.2222222222222222,
             "#7201a8"
            ],
            [
             0.3333333333333333,
             "#9c179e"
            ],
            [
             0.4444444444444444,
             "#bd3786"
            ],
            [
             0.5555555555555556,
             "#d8576b"
            ],
            [
             0.6666666666666666,
             "#ed7953"
            ],
            [
             0.7777777777777778,
             "#fb9f3a"
            ],
            [
             0.8888888888888888,
             "#fdca26"
            ],
            [
             1,
             "#f0f921"
            ]
           ]
          },
          "colorway": [
           "#636efa",
           "#EF553B",
           "#00cc96",
           "#ab63fa",
           "#FFA15A",
           "#19d3f3",
           "#FF6692",
           "#B6E880",
           "#FF97FF",
           "#FECB52"
          ],
          "font": {
           "color": "#2a3f5f"
          },
          "geo": {
           "bgcolor": "white",
           "lakecolor": "white",
           "landcolor": "#E5ECF6",
           "showlakes": true,
           "showland": true,
           "subunitcolor": "white"
          },
          "hoverlabel": {
           "align": "left"
          },
          "hovermode": "closest",
          "mapbox": {
           "style": "light"
          },
          "paper_bgcolor": "white",
          "plot_bgcolor": "#E5ECF6",
          "polar": {
           "angularaxis": {
            "gridcolor": "white",
            "linecolor": "white",
            "ticks": ""
           },
           "bgcolor": "#E5ECF6",
           "radialaxis": {
            "gridcolor": "white",
            "linecolor": "white",
            "ticks": ""
           }
          },
          "scene": {
           "xaxis": {
            "backgroundcolor": "#E5ECF6",
            "gridcolor": "white",
            "gridwidth": 2,
            "linecolor": "white",
            "showbackground": true,
            "ticks": "",
            "zerolinecolor": "white"
           },
           "yaxis": {
            "backgroundcolor": "#E5ECF6",
            "gridcolor": "white",
            "gridwidth": 2,
            "linecolor": "white",
            "showbackground": true,
            "ticks": "",
            "zerolinecolor": "white"
           },
           "zaxis": {
            "backgroundcolor": "#E5ECF6",
            "gridcolor": "white",
            "gridwidth": 2,
            "linecolor": "white",
            "showbackground": true,
            "ticks": "",
            "zerolinecolor": "white"
           }
          },
          "shapedefaults": {
           "line": {
            "color": "#2a3f5f"
           }
          },
          "ternary": {
           "aaxis": {
            "gridcolor": "white",
            "linecolor": "white",
            "ticks": ""
           },
           "baxis": {
            "gridcolor": "white",
            "linecolor": "white",
            "ticks": ""
           },
           "bgcolor": "#E5ECF6",
           "caxis": {
            "gridcolor": "white",
            "linecolor": "white",
            "ticks": ""
           }
          },
          "title": {
           "x": 0.05
          },
          "xaxis": {
           "automargin": true,
           "gridcolor": "white",
           "linecolor": "white",
           "ticks": "",
           "title": {
            "standoff": 15
           },
           "zerolinecolor": "white",
           "zerolinewidth": 2
          },
          "yaxis": {
           "automargin": true,
           "gridcolor": "white",
           "linecolor": "white",
           "ticks": "",
           "title": {
            "standoff": 15
           },
           "zerolinecolor": "white",
           "zerolinewidth": 2
          }
         }
        },
        "title": {
         "text": "Frecuencia de las 50 palabras más comunes"
        },
        "xaxis": {
         "anchor": "y",
         "domain": [
          0,
          1
         ],
         "title": {
          "text": "Rango"
         }
        },
        "yaxis": {
         "anchor": "x",
         "domain": [
          0,
          1
         ],
         "title": {
          "text": "Frecuencia"
         }
        }
       }
      }
     },
     "metadata": {},
     "output_type": "display_data"
    }
   ],
   "source": [
    "# con palabras prohibidas\n",
    "with open(\"stopwords.txt\", \"r\", encoding='utf-8') as f:\n",
    "    palabras_prohibidas = {line.strip() for line in f if line.strip()}\n",
    "\n",
    "words_dict = Counter(text3)\n",
    "freq_filter = {\n",
    "    palabra:freq\n",
    "    for palabra, freq in words_dict.items()\n",
    "    if palabra not in palabras_prohibidas\n",
    "}\n",
    "\n",
    "utils.interactive_word_plot(freq_filter, top_n=50)"
   ]
  },
  {
   "cell_type": "code",
   "execution_count": 7,
   "id": "50e0e37e",
   "metadata": {},
   "outputs": [
    {
     "data": {
      "application/vnd.plotly.v1+json": {
       "config": {
        "plotlyServerURL": "https://plot.ly"
       },
       "data": [
        {
         "hovertemplate": "<b>%{hovertext}</b><br>Rango: %{x}<br>Frecuencia: %{y}",
         "hovertext": [
          "de",
          "a",
          "y",
          "que",
          "la",
          "el",
          "los",
          "en",
          "Y",
          "GEE",
          "su",
          "b",
          "se",
          "no",
          "del",
          "con",
          "Jehová",
          "por",
          "para",
          "las",
          "sus",
          "1",
          "al",
          "2",
          "Dios",
          "es",
          "lo",
          "él",
          "3",
          "le",
          "como",
          "tu",
          "4",
          "5",
          "mi",
          "un",
          "Israel",
          "9",
          "7",
          "6",
          "ha",
          "10",
          "8",
          "11",
          "tierra",
          "dijo",
          "12",
          "hijos",
          "13",
          "sobre"
         ],
         "legendgroup": "",
         "marker": {
          "color": {
           "bdata": "m8cAAFq9AABhngAA5FcAAMlVAADlTQAAx0sAAGZCAACHLwAAcSEAAB4gAAB2HwAA+h4AALYdAAD/HAAAHBwAALwbAAB4GgAADxoAAPEZAABQFQAA9xMAANgTAACJEwAAdBMAAMMRAAC8EQAAdRAAAGgPAAC0DgAAgQ4AACgOAADeDQAAcw0AAD0NAADkDAAA1AwAALUMAACxDAAAmgwAACoMAAAhDAAADQwAAAYMAAChCwAAjQsAAHQLAAByCwAAMAsAACcLAAA=",
           "dtype": "i4"
          },
          "coloraxis": "coloraxis",
          "opacity": 0.7,
          "size": {
           "bdata": "m8cAAFq9AABhngAA5FcAAMlVAADlTQAAx0sAAGZCAACHLwAAcSEAAB4gAAB2HwAA+h4AALYdAAD/HAAAHBwAALwbAAB4GgAADxoAAPEZAABQFQAA9xMAANgTAACJEwAAdBMAAMMRAAC8EQAAdRAAAGgPAAC0DgAAgQ4AACgOAADeDQAAcw0AAD0NAADkDAAA1AwAALUMAACxDAAAmgwAACoMAAAhDAAADQwAAAYMAAChCwAAjQsAAHQLAAByCwAAMAsAACcLAAA=",
           "dtype": "i4"
          },
          "sizemode": "area",
          "sizeref": 14.194166666666666,
          "symbol": "circle"
         },
         "mode": "markers",
         "name": "",
         "orientation": "v",
         "showlegend": false,
         "type": "scatter",
         "x": {
          "bdata": "AQIDBAUGBwgJCgsMDQ4PEBESExQVFhcYGRobHB0eHyAhIiMkJSYnKCkqKywtLi8wMTI=",
          "dtype": "i1"
         },
         "xaxis": "x",
         "y": {
          "bdata": "m8cAAFq9AABhngAA5FcAAMlVAADlTQAAx0sAAGZCAACHLwAAcSEAAB4gAAB2HwAA+h4AALYdAAD/HAAAHBwAALwbAAB4GgAADxoAAPEZAABQFQAA9xMAANgTAACJEwAAdBMAAMMRAAC8EQAAdRAAAGgPAAC0DgAAgQ4AACgOAADeDQAAcw0AAD0NAADkDAAA1AwAALUMAACxDAAAmgwAACoMAAAhDAAADQwAAAYMAAChCwAAjQsAAHQLAAByCwAAMAsAACcLAAA=",
          "dtype": "i4"
         },
         "yaxis": "y"
        }
       ],
       "layout": {
        "coloraxis": {
         "colorbar": {
          "title": {
           "text": "Frecuencia"
          }
         },
         "colorscale": [
          [
           0,
           "#0d0887"
          ],
          [
           0.1111111111111111,
           "#46039f"
          ],
          [
           0.2222222222222222,
           "#7201a8"
          ],
          [
           0.3333333333333333,
           "#9c179e"
          ],
          [
           0.4444444444444444,
           "#bd3786"
          ],
          [
           0.5555555555555556,
           "#d8576b"
          ],
          [
           0.6666666666666666,
           "#ed7953"
          ],
          [
           0.7777777777777778,
           "#fb9f3a"
          ],
          [
           0.8888888888888888,
           "#fdca26"
          ],
          [
           1,
           "#f0f921"
          ]
         ]
        },
        "legend": {
         "itemsizing": "constant",
         "tracegroupgap": 0
        },
        "template": {
         "data": {
          "bar": [
           {
            "error_x": {
             "color": "#2a3f5f"
            },
            "error_y": {
             "color": "#2a3f5f"
            },
            "marker": {
             "line": {
              "color": "#E5ECF6",
              "width": 0.5
             },
             "pattern": {
              "fillmode": "overlay",
              "size": 10,
              "solidity": 0.2
             }
            },
            "type": "bar"
           }
          ],
          "barpolar": [
           {
            "marker": {
             "line": {
              "color": "#E5ECF6",
              "width": 0.5
             },
             "pattern": {
              "fillmode": "overlay",
              "size": 10,
              "solidity": 0.2
             }
            },
            "type": "barpolar"
           }
          ],
          "carpet": [
           {
            "aaxis": {
             "endlinecolor": "#2a3f5f",
             "gridcolor": "white",
             "linecolor": "white",
             "minorgridcolor": "white",
             "startlinecolor": "#2a3f5f"
            },
            "baxis": {
             "endlinecolor": "#2a3f5f",
             "gridcolor": "white",
             "linecolor": "white",
             "minorgridcolor": "white",
             "startlinecolor": "#2a3f5f"
            },
            "type": "carpet"
           }
          ],
          "choropleth": [
           {
            "colorbar": {
             "outlinewidth": 0,
             "ticks": ""
            },
            "type": "choropleth"
           }
          ],
          "contour": [
           {
            "colorbar": {
             "outlinewidth": 0,
             "ticks": ""
            },
            "colorscale": [
             [
              0,
              "#0d0887"
             ],
             [
              0.1111111111111111,
              "#46039f"
             ],
             [
              0.2222222222222222,
              "#7201a8"
             ],
             [
              0.3333333333333333,
              "#9c179e"
             ],
             [
              0.4444444444444444,
              "#bd3786"
             ],
             [
              0.5555555555555556,
              "#d8576b"
             ],
             [
              0.6666666666666666,
              "#ed7953"
             ],
             [
              0.7777777777777778,
              "#fb9f3a"
             ],
             [
              0.8888888888888888,
              "#fdca26"
             ],
             [
              1,
              "#f0f921"
             ]
            ],
            "type": "contour"
           }
          ],
          "contourcarpet": [
           {
            "colorbar": {
             "outlinewidth": 0,
             "ticks": ""
            },
            "type": "contourcarpet"
           }
          ],
          "heatmap": [
           {
            "colorbar": {
             "outlinewidth": 0,
             "ticks": ""
            },
            "colorscale": [
             [
              0,
              "#0d0887"
             ],
             [
              0.1111111111111111,
              "#46039f"
             ],
             [
              0.2222222222222222,
              "#7201a8"
             ],
             [
              0.3333333333333333,
              "#9c179e"
             ],
             [
              0.4444444444444444,
              "#bd3786"
             ],
             [
              0.5555555555555556,
              "#d8576b"
             ],
             [
              0.6666666666666666,
              "#ed7953"
             ],
             [
              0.7777777777777778,
              "#fb9f3a"
             ],
             [
              0.8888888888888888,
              "#fdca26"
             ],
             [
              1,
              "#f0f921"
             ]
            ],
            "type": "heatmap"
           }
          ],
          "histogram": [
           {
            "marker": {
             "pattern": {
              "fillmode": "overlay",
              "size": 10,
              "solidity": 0.2
             }
            },
            "type": "histogram"
           }
          ],
          "histogram2d": [
           {
            "colorbar": {
             "outlinewidth": 0,
             "ticks": ""
            },
            "colorscale": [
             [
              0,
              "#0d0887"
             ],
             [
              0.1111111111111111,
              "#46039f"
             ],
             [
              0.2222222222222222,
              "#7201a8"
             ],
             [
              0.3333333333333333,
              "#9c179e"
             ],
             [
              0.4444444444444444,
              "#bd3786"
             ],
             [
              0.5555555555555556,
              "#d8576b"
             ],
             [
              0.6666666666666666,
              "#ed7953"
             ],
             [
              0.7777777777777778,
              "#fb9f3a"
             ],
             [
              0.8888888888888888,
              "#fdca26"
             ],
             [
              1,
              "#f0f921"
             ]
            ],
            "type": "histogram2d"
           }
          ],
          "histogram2dcontour": [
           {
            "colorbar": {
             "outlinewidth": 0,
             "ticks": ""
            },
            "colorscale": [
             [
              0,
              "#0d0887"
             ],
             [
              0.1111111111111111,
              "#46039f"
             ],
             [
              0.2222222222222222,
              "#7201a8"
             ],
             [
              0.3333333333333333,
              "#9c179e"
             ],
             [
              0.4444444444444444,
              "#bd3786"
             ],
             [
              0.5555555555555556,
              "#d8576b"
             ],
             [
              0.6666666666666666,
              "#ed7953"
             ],
             [
              0.7777777777777778,
              "#fb9f3a"
             ],
             [
              0.8888888888888888,
              "#fdca26"
             ],
             [
              1,
              "#f0f921"
             ]
            ],
            "type": "histogram2dcontour"
           }
          ],
          "mesh3d": [
           {
            "colorbar": {
             "outlinewidth": 0,
             "ticks": ""
            },
            "type": "mesh3d"
           }
          ],
          "parcoords": [
           {
            "line": {
             "colorbar": {
              "outlinewidth": 0,
              "ticks": ""
             }
            },
            "type": "parcoords"
           }
          ],
          "pie": [
           {
            "automargin": true,
            "type": "pie"
           }
          ],
          "scatter": [
           {
            "fillpattern": {
             "fillmode": "overlay",
             "size": 10,
             "solidity": 0.2
            },
            "type": "scatter"
           }
          ],
          "scatter3d": [
           {
            "line": {
             "colorbar": {
              "outlinewidth": 0,
              "ticks": ""
             }
            },
            "marker": {
             "colorbar": {
              "outlinewidth": 0,
              "ticks": ""
             }
            },
            "type": "scatter3d"
           }
          ],
          "scattercarpet": [
           {
            "marker": {
             "colorbar": {
              "outlinewidth": 0,
              "ticks": ""
             }
            },
            "type": "scattercarpet"
           }
          ],
          "scattergeo": [
           {
            "marker": {
             "colorbar": {
              "outlinewidth": 0,
              "ticks": ""
             }
            },
            "type": "scattergeo"
           }
          ],
          "scattergl": [
           {
            "marker": {
             "colorbar": {
              "outlinewidth": 0,
              "ticks": ""
             }
            },
            "type": "scattergl"
           }
          ],
          "scattermap": [
           {
            "marker": {
             "colorbar": {
              "outlinewidth": 0,
              "ticks": ""
             }
            },
            "type": "scattermap"
           }
          ],
          "scattermapbox": [
           {
            "marker": {
             "colorbar": {
              "outlinewidth": 0,
              "ticks": ""
             }
            },
            "type": "scattermapbox"
           }
          ],
          "scatterpolar": [
           {
            "marker": {
             "colorbar": {
              "outlinewidth": 0,
              "ticks": ""
             }
            },
            "type": "scatterpolar"
           }
          ],
          "scatterpolargl": [
           {
            "marker": {
             "colorbar": {
              "outlinewidth": 0,
              "ticks": ""
             }
            },
            "type": "scatterpolargl"
           }
          ],
          "scatterternary": [
           {
            "marker": {
             "colorbar": {
              "outlinewidth": 0,
              "ticks": ""
             }
            },
            "type": "scatterternary"
           }
          ],
          "surface": [
           {
            "colorbar": {
             "outlinewidth": 0,
             "ticks": ""
            },
            "colorscale": [
             [
              0,
              "#0d0887"
             ],
             [
              0.1111111111111111,
              "#46039f"
             ],
             [
              0.2222222222222222,
              "#7201a8"
             ],
             [
              0.3333333333333333,
              "#9c179e"
             ],
             [
              0.4444444444444444,
              "#bd3786"
             ],
             [
              0.5555555555555556,
              "#d8576b"
             ],
             [
              0.6666666666666666,
              "#ed7953"
             ],
             [
              0.7777777777777778,
              "#fb9f3a"
             ],
             [
              0.8888888888888888,
              "#fdca26"
             ],
             [
              1,
              "#f0f921"
             ]
            ],
            "type": "surface"
           }
          ],
          "table": [
           {
            "cells": {
             "fill": {
              "color": "#EBF0F8"
             },
             "line": {
              "color": "white"
             }
            },
            "header": {
             "fill": {
              "color": "#C8D4E3"
             },
             "line": {
              "color": "white"
             }
            },
            "type": "table"
           }
          ]
         },
         "layout": {
          "annotationdefaults": {
           "arrowcolor": "#2a3f5f",
           "arrowhead": 0,
           "arrowwidth": 1
          },
          "autotypenumbers": "strict",
          "coloraxis": {
           "colorbar": {
            "outlinewidth": 0,
            "ticks": ""
           }
          },
          "colorscale": {
           "diverging": [
            [
             0,
             "#8e0152"
            ],
            [
             0.1,
             "#c51b7d"
            ],
            [
             0.2,
             "#de77ae"
            ],
            [
             0.3,
             "#f1b6da"
            ],
            [
             0.4,
             "#fde0ef"
            ],
            [
             0.5,
             "#f7f7f7"
            ],
            [
             0.6,
             "#e6f5d0"
            ],
            [
             0.7,
             "#b8e186"
            ],
            [
             0.8,
             "#7fbc41"
            ],
            [
             0.9,
             "#4d9221"
            ],
            [
             1,
             "#276419"
            ]
           ],
           "sequential": [
            [
             0,
             "#0d0887"
            ],
            [
             0.1111111111111111,
             "#46039f"
            ],
            [
             0.2222222222222222,
             "#7201a8"
            ],
            [
             0.3333333333333333,
             "#9c179e"
            ],
            [
             0.4444444444444444,
             "#bd3786"
            ],
            [
             0.5555555555555556,
             "#d8576b"
            ],
            [
             0.6666666666666666,
             "#ed7953"
            ],
            [
             0.7777777777777778,
             "#fb9f3a"
            ],
            [
             0.8888888888888888,
             "#fdca26"
            ],
            [
             1,
             "#f0f921"
            ]
           ],
           "sequentialminus": [
            [
             0,
             "#0d0887"
            ],
            [
             0.1111111111111111,
             "#46039f"
            ],
            [
             0.2222222222222222,
             "#7201a8"
            ],
            [
             0.3333333333333333,
             "#9c179e"
            ],
            [
             0.4444444444444444,
             "#bd3786"
            ],
            [
             0.5555555555555556,
             "#d8576b"
            ],
            [
             0.6666666666666666,
             "#ed7953"
            ],
            [
             0.7777777777777778,
             "#fb9f3a"
            ],
            [
             0.8888888888888888,
             "#fdca26"
            ],
            [
             1,
             "#f0f921"
            ]
           ]
          },
          "colorway": [
           "#636efa",
           "#EF553B",
           "#00cc96",
           "#ab63fa",
           "#FFA15A",
           "#19d3f3",
           "#FF6692",
           "#B6E880",
           "#FF97FF",
           "#FECB52"
          ],
          "font": {
           "color": "#2a3f5f"
          },
          "geo": {
           "bgcolor": "white",
           "lakecolor": "white",
           "landcolor": "#E5ECF6",
           "showlakes": true,
           "showland": true,
           "subunitcolor": "white"
          },
          "hoverlabel": {
           "align": "left"
          },
          "hovermode": "closest",
          "mapbox": {
           "style": "light"
          },
          "paper_bgcolor": "white",
          "plot_bgcolor": "#E5ECF6",
          "polar": {
           "angularaxis": {
            "gridcolor": "white",
            "linecolor": "white",
            "ticks": ""
           },
           "bgcolor": "#E5ECF6",
           "radialaxis": {
            "gridcolor": "white",
            "linecolor": "white",
            "ticks": ""
           }
          },
          "scene": {
           "xaxis": {
            "backgroundcolor": "#E5ECF6",
            "gridcolor": "white",
            "gridwidth": 2,
            "linecolor": "white",
            "showbackground": true,
            "ticks": "",
            "zerolinecolor": "white"
           },
           "yaxis": {
            "backgroundcolor": "#E5ECF6",
            "gridcolor": "white",
            "gridwidth": 2,
            "linecolor": "white",
            "showbackground": true,
            "ticks": "",
            "zerolinecolor": "white"
           },
           "zaxis": {
            "backgroundcolor": "#E5ECF6",
            "gridcolor": "white",
            "gridwidth": 2,
            "linecolor": "white",
            "showbackground": true,
            "ticks": "",
            "zerolinecolor": "white"
           }
          },
          "shapedefaults": {
           "line": {
            "color": "#2a3f5f"
           }
          },
          "ternary": {
           "aaxis": {
            "gridcolor": "white",
            "linecolor": "white",
            "ticks": ""
           },
           "baxis": {
            "gridcolor": "white",
            "linecolor": "white",
            "ticks": ""
           },
           "bgcolor": "#E5ECF6",
           "caxis": {
            "gridcolor": "white",
            "linecolor": "white",
            "ticks": ""
           }
          },
          "title": {
           "x": 0.05
          },
          "xaxis": {
           "automargin": true,
           "gridcolor": "white",
           "linecolor": "white",
           "ticks": "",
           "title": {
            "standoff": 15
           },
           "zerolinecolor": "white",
           "zerolinewidth": 2
          },
          "yaxis": {
           "automargin": true,
           "gridcolor": "white",
           "linecolor": "white",
           "ticks": "",
           "title": {
            "standoff": 15
           },
           "zerolinecolor": "white",
           "zerolinewidth": 2
          }
         }
        },
        "title": {
         "text": "Frecuencia de las 50 palabras más comunes"
        },
        "xaxis": {
         "anchor": "y",
         "domain": [
          0,
          1
         ],
         "title": {
          "text": "Rango"
         }
        },
        "yaxis": {
         "anchor": "x",
         "domain": [
          0,
          1
         ],
         "title": {
          "text": "Frecuencia"
         }
        }
       }
      }
     },
     "metadata": {},
     "output_type": "display_data"
    }
   ],
   "source": [
    "utils.interactive_word_plot(Counter(text3), top_n=50)"
   ]
  },
  {
   "cell_type": "code",
   "execution_count": 8,
   "id": "43287ed2",
   "metadata": {},
   "outputs": [
    {
     "data": {
      "image/png": "[encoded data removed]",
      "text/plain": [
       "<Figure size 1500x1200 with 2 Axes>"
      ]
     },
     "metadata": {},
     "output_type": "display_data"
    },
    {
     "name": "stdout",
     "output_type": "stream",
     "text": [
      "Number of words: 1021200\n",
      "Unique words: 38136\n",
      "Most frequent word: de (51099 times)\n"
     ]
    }
   ],
   "source": [
    "utils.complete_analysis(Counter(text3), top_n=50)"
   ]
  },
  {
   "cell_type": "code",
   "execution_count": 9,
   "id": "4d977620",
   "metadata": {},
   "outputs": [
    {
     "data": {
      "image/png": "[encoded data removed]",
      "text/plain": [
       "<Figure size 1500x800 with 1 Axes>"
      ]
     },
     "metadata": {},
     "output_type": "display_data"
    }
   ],
   "source": [
    "utils.plot_frequency_scatter(Counter(text3), top_n=50)"
   ]
  },
  {
   "cell_type": "code",
   "execution_count": 10,
   "id": "6779b046",
   "metadata": {},
   "outputs": [
    {
     "data": {
      "image/png": "[encoded data removed]",
      "text/plain": [
       "<Figure size 1200x800 with 1 Axes>"
      ]
     },
     "metadata": {},
     "output_type": "display_data"
    }
   ],
   "source": [
    "utils.plot_word_freq_log(Counter(text3), top_n=50)"
   ]
  },
  {
   "cell_type": "code",
   "execution_count": 11,
   "id": "92ad80d7",
   "metadata": {},
   "outputs": [],
   "source": [
    "biblia = class_document.document(\"data/biblia.pdf\")"
   ]
  },
  {
   "cell_type": "code",
   "execution_count": 12,
   "id": "783a2a6c",
   "metadata": {},
   "outputs": [],
   "source": [
    "sent = biblia.get_text_sent()"
   ]
  },
  {
   "cell_type": "code",
   "execution_count": 13,
   "id": "dfcde122",
   "metadata": {},
   "outputs": [],
   "source": [
    "words = biblia.get_text_word()"
   ]
  },
  {
   "cell_type": "code",
   "execution_count": 15,
   "id": "ee783c5a",
   "metadata": {},
   "outputs": [],
   "source": [
    "words = biblia.count_words()"
   ]
  },
  {
   "cell_type": "code",
   "execution_count": 16,
   "id": "304cb1c8",
   "metadata": {},
   "outputs": [
    {
     "data": {
      "text/plain": [
       "{'y': 52712,\n",
       " 'de': 51671,\n",
       " 'a': 48937,\n",
       " 'la': 22784,\n",
       " 'que': 22570,\n",
       " 'el': 21386,\n",
       " 'los': 20272,\n",
       " 'en': 17641,\n",
       " 'no': 9066,\n",
       " 'su': 8574,\n",
       " 'gee': 8562,\n",
       " 'se': 8551,\n",
       " 'b': 8090,\n",
       " 'por': 7846,\n",
       " 'del': 7469,\n",
       " 'con': 7334,\n",
       " 'jehová': 7110,\n",
       " 'las': 6919,\n",
       " 'para': 6756,\n",
       " 'es': 5643,\n",
       " 'sus': 5602,\n",
       " 'al': 5279,\n",
       " '1': 5111,\n",
       " 'dios': 5065,\n",
       " '2': 5001,\n",
       " 'lo': 4627,\n",
       " 'él': 4553,\n",
       " 'porque': 4173,\n",
       " '3': 3944,\n",
       " 'como': 3872,\n",
       " 'le': 3851,\n",
       " 'tu': 3726,\n",
       " '4': 3550,\n",
       " 'mi': 3544,\n",
       " '5': 3443,\n",
       " 'un': 3391,\n",
       " 'israel': 3285,\n",
       " '9': 3253,\n",
       " '7': 3249,\n",
       " '6': 3226,\n",
       " 'yo': 3224,\n",
       " 'ha': 3219,\n",
       " '10': 3105,\n",
       " '8': 3085,\n",
       " 'rey': 3079,\n",
       " '11': 3078,\n",
       " 'tierra': 3076,\n",
       " 'dijo': 3015,\n",
       " 'hijos': 2990,\n",
       " '12': 2932,\n",
       " 'sobre': 2881,\n",
       " '13': 2864,\n",
       " '14': 2834,\n",
       " 'me': 2765,\n",
       " 'ellos': 2701,\n",
       " 'te': 2689,\n",
       " 'he': 2683,\n",
       " 'hijo': 2670,\n",
       " '15': 2603,\n",
       " '16': 2599,\n",
       " 'c': 2546,\n",
       " 'pero': 2446,\n",
       " '17': 2406,\n",
       " 'todo': 2357,\n",
       " 'todos': 2306,\n",
       " '18': 2265,\n",
       " '19': 2182,\n",
       " 'casa': 2168,\n",
       " 'una': 2155,\n",
       " 'cuando': 2137,\n",
       " '20': 2104,\n",
       " 'ni': 2101,\n",
       " '21': 2031,\n",
       " 'o': 2013,\n",
       " '22': 1976,\n",
       " 'si': 1969,\n",
       " 'entonces': 1908,\n",
       " 'pueblo': 1899,\n",
       " 'dyc': 1836,\n",
       " 'os': 1813,\n",
       " '23': 1786,\n",
       " 'también': 1749,\n",
       " 'así': 1712,\n",
       " 'día': 1673,\n",
       " 'tus': 1666,\n",
       " '24': 1663,\n",
       " 'había': 1654,\n",
       " 'señor': 1653,\n",
       " 'vosotros': 1647,\n",
       " 'contra': 1622,\n",
       " 'pues': 1614,\n",
       " 'hombre': 1608,\n",
       " '25': 1592,\n",
       " 'será': 1575,\n",
       " 'les': 1558,\n",
       " 'aquí': 1547,\n",
       " 'hasta': 1517,\n",
       " '26': 1490,\n",
       " 'fue': 1471,\n",
       " 'delante': 1464,\n",
       " 'tú': 1447,\n",
       " 'este': 1438,\n",
       " 'sea': 1409,\n",
       " 'mí': 1393,\n",
       " 'ti': 1369,\n",
       " 'está': 1363,\n",
       " '27': 1347,\n",
       " 'david': 1335,\n",
       " 'entre': 1333,\n",
       " 'son': 1294,\n",
       " '28': 1282,\n",
       " 'toda': 1226,\n",
       " 'más': 1225,\n",
       " 'padre': 1220,\n",
       " 'e': 1206,\n",
       " 'ella': 1202,\n",
       " '29': 1199,\n",
       " 'dos': 1186,\n",
       " 'moisés': 1179,\n",
       " 'todas': 1176,\n",
       " 'jesús': 1176,\n",
       " 'qué': 1156,\n",
       " 'hombres': 1154,\n",
       " 'días': 1135,\n",
       " 'mis': 1125,\n",
       " 'decir': 1113,\n",
       " 'diciendo': 1112,\n",
       " '30': 1050,\n",
       " 'esta': 1040,\n",
       " 'capítulo': 1035,\n",
       " '31': 1027,\n",
       " 'judá': 1025,\n",
       " 'esto': 1000,\n",
       " 'cual': 990,\n",
       " 'mano': 977,\n",
       " 'sino': 959,\n",
       " 'era': 954,\n",
       " 'oh': 941,\n",
       " 'ne': 935,\n",
       " 'han': 929,\n",
       " 'jerusalén': 927,\n",
       " 'nos': 926,\n",
       " 'hizo': 923,\n",
       " 'corazón': 917,\n",
       " 'lugar': 916,\n",
       " 'desde': 915,\n",
       " 'cosas': 905,\n",
       " 'nombre': 900,\n",
       " 'uno': 894,\n",
       " 'ahora': 891,\n",
       " 'juan': 882,\n",
       " '32': 875,\n",
       " 'ciudad': 867,\n",
       " 'manos': 863,\n",
       " '33': 860,\n",
       " 'heb': 856,\n",
       " 'allí': 856,\n",
       " 'espíritu': 831,\n",
       " 'mas': 819,\n",
       " '34': 813,\n",
       " 'aquel': 809,\n",
       " 'alma': 805,\n",
       " 'después': 799,\n",
       " 'palabra': 798,\n",
       " 'mar': 786,\n",
       " 'hecho': 784,\n",
       " 'mateo': 779,\n",
       " 'sin': 774,\n",
       " 'd': 772,\n",
       " 'nosotros': 772,\n",
       " 'cada': 771,\n",
       " 'vida': 770,\n",
       " 'dicho': 766,\n",
       " 'has': 762,\n",
       " 'medio': 751,\n",
       " 'dice': 751,\n",
       " 'egipto': 749,\n",
       " 'tjs': 742,\n",
       " 'estaba': 737,\n",
       " 'ojos': 736,\n",
       " 'ser': 734,\n",
       " 'fueron': 733,\n",
       " 'gran': 724,\n",
       " 'tanto': 711,\n",
       " '35': 700,\n",
       " 'vino': 699,\n",
       " 'hay': 695,\n",
       " 'otro': 678,\n",
       " 'quien': 677,\n",
       " 'cristo': 674,\n",
       " 'jesucristo': 668,\n",
       " 'ley': 664,\n",
       " 'dio': 640,\n",
       " 'bien': 628,\n",
       " '36': 625,\n",
       " 'ofrenda': 621,\n",
       " 'estas': 615,\n",
       " 'camino': 606,\n",
       " 'años': 592,\n",
       " 'serán': 588,\n",
       " 'estos': 588,\n",
       " 'tiempo': 588,\n",
       " 'éx': 587,\n",
       " 'mal': 586,\n",
       " '38': 585,\n",
       " 'je': 584,\n",
       " 'jacob': 578,\n",
       " 'monte': 572,\n",
       " 'convenio': 567,\n",
       " '37': 565,\n",
       " 'causa': 559,\n",
       " 'santo': 557,\n",
       " 'ante': 553,\n",
       " 'palabras': 551,\n",
       " 'muerte': 550,\n",
       " 'fuego': 549,\n",
       " 'quién': 546,\n",
       " 'pecado': 545,\n",
       " 'voz': 542,\n",
       " 'nuestro': 540,\n",
       " 'luz': 537,\n",
       " 'lucas': 529,\n",
       " 'respondió': 528,\n",
       " 'mil': 525,\n",
       " 'mismo': 524,\n",
       " 'vuestros': 523,\n",
       " 'soy': 523,\n",
       " 'mos': 522,\n",
       " 'hermanos': 521,\n",
       " 'paz': 515,\n",
       " 'están': 511,\n",
       " 'gén': 510,\n",
       " 'oro': 510,\n",
       " 'naciones': 509,\n",
       " 'sí': 507,\n",
       " 'habían': 505,\n",
       " 'isa': 500,\n",
       " 'sacerdote': 497,\n",
       " 'conforme': 495,\n",
       " 'sido': 489,\n",
       " 'josué': 485,\n",
       " '40': 484,\n",
       " 'sangre': 483,\n",
       " '39': 479,\n",
       " 'gloria': 478,\n",
       " 'estaban': 475,\n",
       " 'padres': 474,\n",
       " 'donde': 472,\n",
       " 'vuestro': 472,\n",
       " 'según': 467,\n",
       " 'siervo': 467,\n",
       " 'reino': 467,\n",
       " 'saúl': 465,\n",
       " 'cielo': 459,\n",
       " 'reyes': 458,\n",
       " 'ya': 458,\n",
       " 'siete': 457,\n",
       " 'hová': 455,\n",
       " 'dado': 451,\n",
       " 'tres': 450,\n",
       " 'di': 447,\n",
       " 'siempre': 441,\n",
       " 'hacer': 439,\n",
       " 'obra': 438,\n",
       " 'ciudades': 433,\n",
       " 'mundo': 429,\n",
       " 'boca': 428,\n",
       " 'cuanto': 427,\n",
       " 'dijeron': 427,\n",
       " 'abraham': 426,\n",
       " 'josé': 423,\n",
       " 'mujer': 422,\n",
       " 'templo': 422,\n",
       " 'justicia': 419,\n",
       " 'sal': 418,\n",
       " '42': 416,\n",
       " 'lado': 414,\n",
       " 'gr': 413,\n",
       " 'carne': 413,\n",
       " 'cuales': 412,\n",
       " 'deut': 408,\n",
       " 'da': 408,\n",
       " '41': 407,\n",
       " 'parte': 406,\n",
       " 'siervos': 406,\n",
       " 'otra': 404,\n",
       " 'cielos': 404,\n",
       " 'haya': 404,\n",
       " 'hermano': 404,\n",
       " 'altar': 404,\n",
       " 'espada': 400,\n",
       " 'hace': 400,\n",
       " 'tiene': 399,\n",
       " 'hech': 397,\n",
       " 'bre': 397,\n",
       " 'antes': 396,\n",
       " 'fe': 396,\n",
       " 'habéis': 396,\n",
       " 'ron': 394,\n",
       " 'puso': 393,\n",
       " 'tomó': 388,\n",
       " 'junto': 387,\n",
       " 'misericordia': 386,\n",
       " 'aarón': 386,\n",
       " 'verdad': 384,\n",
       " 'sacerdotes': 379,\n",
       " 'aguas': 376,\n",
       " 'esposa': 375,\n",
       " 'año': 375,\n",
       " 'pan': 372,\n",
       " 'haré': 371,\n",
       " 'puerta': 371,\n",
       " 'agua': 367,\n",
       " 'des': 363,\n",
       " '43': 363,\n",
       " 'hacia': 363,\n",
       " 'desierto': 362,\n",
       " 'hoy': 361,\n",
       " '45': 361,\n",
       " 'muchos': 359,\n",
       " 'tenía': 358,\n",
       " 'poder': 354,\n",
       " 'habló': 351,\n",
       " 'ira': 348,\n",
       " 'otros': 345,\n",
       " 'manera': 342,\n",
       " 'babilonia': 342,\n",
       " 'aconteció': 339,\n",
       " 'eres': 338,\n",
       " 'envió': 338,\n",
       " 've': 336,\n",
       " 'profeta': 336,\n",
       " 'salomón': 336,\n",
       " 'ma': 335,\n",
       " '44': 334,\n",
       " 'fuera': 333,\n",
       " 'obras': 331,\n",
       " 'aun': 331,\n",
       " 'reposo': 330,\n",
       " 'cabeza': 329,\n",
       " 'hija': 327,\n",
       " 'arca': 325,\n",
       " '46': 325,\n",
       " 'jer': 324,\n",
       " 'plata': 322,\n",
       " 'tabernáculo': 322,\n",
       " 'pa': 320,\n",
       " 'eran': 319,\n",
       " 'co': 317,\n",
       " 'vuestras': 315,\n",
       " 'cómo': 313,\n",
       " 'juicio': 313,\n",
       " 'ejércitos': 310,\n",
       " 'nada': 309,\n",
       " 'noche': 308,\n",
       " 'madre': 307,\n",
       " 'campo': 306,\n",
       " 'mío': 304,\n",
       " 'muertos': 300,\n",
       " 'faraón': 299,\n",
       " 'pablo': 299,\n",
       " 'ezeq': 297,\n",
       " 'guerra': 297,\n",
       " 'asimismo': 297,\n",
       " 'judíos': 295,\n",
       " 'hará': 294,\n",
       " 'diez': 292,\n",
       " 'vez': 292,\n",
       " 'nuestros': 292,\n",
       " 'solo': 291,\n",
       " 'fin': 291,\n",
       " 'tribu': 290,\n",
       " 'sabiduría': 289,\n",
       " 'ellas': 288,\n",
       " 'rostro': 287,\n",
       " 'pe': 285,\n",
       " 'temor': 285,\n",
       " 'profetas': 283,\n",
       " 'puesto': 282,\n",
       " 'hijas': 281,\n",
       " 'sam': 279,\n",
       " 're': 279,\n",
       " 'filisteos': 279,\n",
       " 'oído': 279,\n",
       " '50': 279,\n",
       " 'levitas': 279,\n",
       " 'samuel': 278,\n",
       " 'pies': 278,\n",
       " 'cosa': 277,\n",
       " 'jeremías': 276,\n",
       " 'aún': 276,\n",
       " 'dioses': 276,\n",
       " 'vio': 273,\n",
       " 'cinco': 271,\n",
       " 'cuerpo': 270,\n",
       " 'justo': 270,\n",
       " 'vuestra': 270,\n",
       " 'mes': 269,\n",
       " 'ver': 269,\n",
       " 'grande': 266,\n",
       " 'mañana': 265,\n",
       " 'gracia': 265,\n",
       " 'alguno': 265,\n",
       " 'salvación': 264,\n",
       " 'pedro': 263,\n",
       " 'nunca': 263,\n",
       " 'hemos': 263,\n",
       " 'contigo': 261,\n",
       " 'salmo': 261,\n",
       " 'cor': 260,\n",
       " 'ovejas': 260,\n",
       " 'dan': 259,\n",
       " 'gente': 259,\n",
       " 'núm': 258,\n",
       " 'doce': 258,\n",
       " 'acerca': 257,\n",
       " 'enemigos': 257,\n",
       " '49': 256,\n",
       " 'iniquidad': 256,\n",
       " 'hubo': 255,\n",
       " 'hicieron': 255,\n",
       " '48': 255,\n",
       " 'libro': 254,\n",
       " 'digo': 254,\n",
       " 'visto': 252,\n",
       " 'pie': 251,\n",
       " 'salió': 250,\n",
       " 'amor': 249,\n",
       " 'alrededor': 248,\n",
       " 'muerto': 248,\n",
       " 'sion': 247,\n",
       " 'tras': 247,\n",
       " 'llamado': 246,\n",
       " 'dad': 245,\n",
       " 'príncipes': 245,\n",
       " 'aunque': 244,\n",
       " 'mandó': 244,\n",
       " 'to': 244,\n",
       " 'cuatro': 243,\n",
       " 'heredad': 243,\n",
       " 'tes': 242,\n",
       " 'familia': 241,\n",
       " 'pueblos': 240,\n",
       " 'discípulos': 240,\n",
       " 'congregación': 239,\n",
       " 'so': 238,\n",
       " 'ángel': 238,\n",
       " 'río': 236,\n",
       " 'ción': 236,\n",
       " 'sa': 235,\n",
       " 'casas': 235,\n",
       " 'testimonio': 234,\n",
       " 'fruto': 232,\n",
       " 'hom': 231,\n",
       " 'efraín': 229,\n",
       " 'ca': 228,\n",
       " 'sean': 227,\n",
       " 'jordán': 225,\n",
       " 'tra': 225,\n",
       " 'santos': 224,\n",
       " 'pecados': 224,\n",
       " 'nuevo': 223,\n",
       " 'evangelio': 223,\n",
       " 'tros': 223,\n",
       " '47': 223,\n",
       " 'cró': 222,\n",
       " 'habla': 222,\n",
       " 'nadie': 222,\n",
       " 'tos': 220,\n",
       " 'ciertamente': 220,\n",
       " 'volvió': 220,\n",
       " 'aceite': 220,\n",
       " 'aquellos': 219,\n",
       " 'muchas': 219,\n",
       " 'debajo': 218,\n",
       " 'conmigo': 218,\n",
       " 'montes': 217,\n",
       " 'viene': 217,\n",
       " 'pro': 216,\n",
       " 'apoc': 215,\n",
       " 'piedra': 215,\n",
       " 'llamó': 214,\n",
       " 'habrá': 212,\n",
       " 'tal': 212,\n",
       " 'venido': 211,\n",
       " 'aquella': 210,\n",
       " 'levantó': 210,\n",
       " 'ejército': 210,\n",
       " 'dónde': 208,\n",
       " 'bet': 208,\n",
       " 'lev': 207,\n",
       " 'moab': 207,\n",
       " '51': 206,\n",
       " 'ruego': 204,\n",
       " 'multitud': 204,\n",
       " 'escrito': 203,\n",
       " 'engendró': 202,\n",
       " 'codos': 202,\n",
       " 'unos': 202,\n",
       " 'ninguno': 202,\n",
       " 'tie': 201,\n",
       " 'cierto': 201,\n",
       " 'ancianos': 200,\n",
       " 'ir': 198,\n",
       " 'luego': 198,\n",
       " 'muy': 198,\n",
       " 'rra': 197,\n",
       " 'hechos': 195,\n",
       " 'mandamientos': 195,\n",
       " 'treinta': 195,\n",
       " 'mucho': 195,\n",
       " 'trono': 195,\n",
       " 'isaías': 194,\n",
       " 'job': 193,\n",
       " 'llegó': 193,\n",
       " 'eso': 192,\n",
       " 'sacrificios': 191,\n",
       " 'algunos': 191,\n",
       " 'descendencia': 191,\n",
       " 'sol': 191,\n",
       " 'dar': 190,\n",
       " 'andar': 190,\n",
       " 'norte': 190,\n",
       " 'malo': 190,\n",
       " 'iglesia': 189,\n",
       " 'bueno': 189,\n",
       " 'harás': 189,\n",
       " 'grano': 189,\n",
       " 'primero': 188,\n",
       " 'maldad': 188,\n",
       " 'dije': 188,\n",
       " 'nuestra': 187,\n",
       " 'puertas': 186,\n",
       " 'jefes': 186,\n",
       " 'holocausto': 184,\n",
       " 'ven': 184,\n",
       " 'mandado': 183,\n",
       " 'valle': 183,\n",
       " 'sur': 183,\n",
       " 'comer': 182,\n",
       " 'va': 182,\n",
       " 'mientras': 182,\n",
       " 'tribus': 182,\n",
       " 'además': 180,\n",
       " 'res': 180,\n",
       " 'benjamín': 180,\n",
       " 'lante': 178,\n",
       " 'haga': 178,\n",
       " 'rán': 178,\n",
       " 'dará': 177,\n",
       " 'isaac': 177,\n",
       " 'gozo': 177,\n",
       " 'gentiles': 176,\n",
       " 'campos': 176,\n",
       " 'salmos': 175,\n",
       " 'oración': 175,\n",
       " 'daré': 175,\n",
       " 'durante': 175,\n",
       " 'haber': 175,\n",
       " 'das': 174,\n",
       " 'sois': 174,\n",
       " 'vi': 173,\n",
       " 'murió': 173,\n",
       " 'entrada': 172,\n",
       " 'caminos': 172,\n",
       " 'vinieron': 171,\n",
       " 'saber': 171,\n",
       " 'ciendo': 171,\n",
       " 'ángeles': 170,\n",
       " 'vendrá': 170,\n",
       " 'hablado': 170,\n",
       " 'grandes': 169,\n",
       " 's': 169,\n",
       " 'nes': 169,\n",
       " 'ofrendas': 169,\n",
       " 'cuarenta': 168,\n",
       " 'recto': 168,\n",
       " 'tinieblas': 167,\n",
       " 'bajo': 167,\n",
       " 'familias': 167,\n",
       " 'puede': 167,\n",
       " 'elías': 166,\n",
       " 'señal': 165,\n",
       " 'mu': 165,\n",
       " 'tro': 165,\n",
       " 'habiendo': 165,\n",
       " 'mujeres': 165,\n",
       " 'varón': 164,\n",
       " 'expiación': 164,\n",
       " 'estoy': 164,\n",
       " 'reunión': 163,\n",
       " 'bronce': 163,\n",
       " 'reinó': 163,\n",
       " 'compárese': 163,\n",
       " 'hambre': 162,\n",
       " 'tuvo': 162,\n",
       " '53': 162,\n",
       " 'dentro': 161,\n",
       " 'fuerte': 161,\n",
       " 'lugares': 160,\n",
       " 'crónicas': 160,\n",
       " 'rom': 160,\n",
       " 'segunda': 160,\n",
       " 'mente': 159,\n",
       " 'mejor': 159,\n",
       " 'hi': 158,\n",
       " 'veinte': 158,\n",
       " 'toma': 158,\n",
       " 'venir': 158,\n",
       " '52': 158,\n",
       " 'pue': 158,\n",
       " 'is': 158,\n",
       " 'asiria': 157,\n",
       " 'tienen': 157,\n",
       " 'allá': 157,\n",
       " 'piedras': 157,\n",
       " 'vues': 157,\n",
       " 'venga': 157,\n",
       " 'poco': 156,\n",
       " 'manasés': 156,\n",
       " 'véase': 155,\n",
       " 'oír': 155,\n",
       " 'baal': 154,\n",
       " 'furor': 154,\n",
       " 'cincuenta': 153,\n",
       " 'joab': 153,\n",
       " 'oriente': 152,\n",
       " 'presencia': 152,\n",
       " 'oyó': 152,\n",
       " 'misma': 152,\n",
       " 'riquezas': 152,\n",
       " 'seis': 151,\n",
       " 'propia': 151,\n",
       " 'llevó': 151,\n",
       " 'venida': 151,\n",
       " 'incienso': 151,\n",
       " 'lengua': 150,\n",
       " 'alto': 150,\n",
       " 'pre': 150,\n",
       " 'blo': 150,\n",
       " 'mira': 150,\n",
       " 'campamento': 150,\n",
       " 'ninguna': 150,\n",
       " 'resurrección': 148,\n",
       " 'escrituras': 148,\n",
       " 'ezequías': 148,\n",
       " 'buena': 147,\n",
       " 'conocimiento': 147,\n",
       " 'veces': 147,\n",
       " 'rectitud': 147,\n",
       " 'jefe': 147,\n",
       " 'volver': 147,\n",
       " 'mayor': 146,\n",
       " 'estará': 146,\n",
       " 'solamente': 145,\n",
       " 'sotros': 145,\n",
       " 'hacen': 145,\n",
       " 'bres': 144,\n",
       " 'nación': 144,\n",
       " 'subió': 144,\n",
       " 'cerca': 144,\n",
       " 'dieron': 144,\n",
       " 'sé': 143,\n",
       " 'galaad': 143,\n",
       " 'sacrificio': 143,\n",
       " 'alguna': 142,\n",
       " 'servicio': 142,\n",
       " 'lejos': 141,\n",
       " 'ídolos': 141,\n",
       " 'batalla': 140,\n",
       " 'oye': 140,\n",
       " 'pos': 140,\n",
       " 'vestidos': 140,\n",
       " 'oídos': 139,\n",
       " 'samaria': 139,\n",
       " 'esperanza': 139,\n",
       " 'daniel': 138,\n",
       " 'hora': 138,\n",
       " 'cualquiera': 138,\n",
       " 'autoridad': 138,\n",
       " 'ay': 137,\n",
       " 'muro': 137,\n",
       " 'santuario': 137,\n",
       " 'cia': 136,\n",
       " 'justos': 136,\n",
       " 'eterna': 135,\n",
       " 'serás': 135,\n",
       " 'visión': 135,\n",
       " 'dinero': 135,\n",
       " 'tengo': 135,\n",
       " 'edom': 135,\n",
       " 'consejo': 135,\n",
       " 'm': 134,\n",
       " 'canaán': 134,\n",
       " 'decía': 134,\n",
       " 'llama': 134,\n",
       " 'polvo': 133,\n",
       " 'per': 133,\n",
       " 'generación': 133,\n",
       " 'quienes': 133,\n",
       " 'po': 133,\n",
       " '56': 132,\n",
       " 'voluntad': 131,\n",
       " 'niño': 131,\n",
       " 'esaú': 131,\n",
       " 'sacer': 131,\n",
       " 'reina': 130,\n",
       " 'iba': 130,\n",
       " 'gracias': 129,\n",
       " 'pascua': 129,\n",
       " 'estatutos': 129,\n",
       " 'ningún': 128,\n",
       " 'viento': 128,\n",
       " 'rael': 128,\n",
       " 'entendimiento': 128,\n",
       " 'esté': 127,\n",
       " 'n': 127,\n",
       " 'segundo': 127,\n",
       " 'nuestras': 127,\n",
       " 'vieron': 127,\n",
       " 'i': 127,\n",
       " 'apéndice': 126,\n",
       " 'hel': 126,\n",
       " 'comenzó': 126,\n",
       " 'sacerdocio': 126,\n",
       " 'moradores': 126,\n",
       " 'ezequiel': 125,\n",
       " 'mató': 125,\n",
       " 'vive': 125,\n",
       " 'vo': 125,\n",
       " 'príncipe': 125,\n",
       " 'jonatán': 125,\n",
       " 'in': 124,\n",
       " 'entrar': 124,\n",
       " 'apostasía': 124,\n",
       " 'amón': 124,\n",
       " 'guarda': 123,\n",
       " 'arriba': 123,\n",
       " 'somos': 123,\n",
       " 'hallado': 123,\n",
       " 'entró': 122,\n",
       " 'acab': 122,\n",
       " 'jos': 121,\n",
       " 'madera': 121,\n",
       " 'tienda': 121,\n",
       " 'idolatría': 121,\n",
       " 'r': 121,\n",
       " 'pusieron': 120,\n",
       " 'primogénito': 120,\n",
       " 'fiesta': 120,\n",
       " 'santa': 119,\n",
       " 'otras': 119,\n",
       " 'génesis': 119,\n",
       " 'na': 119,\n",
       " 'limpio': 119,\n",
       " 'tierras': 119,\n",
       " 'beber': 119,\n",
       " 'sepulcro': 119,\n",
       " 'ese': 118,\n",
       " '88': 118,\n",
       " 'hermana': 118,\n",
       " '54': 118,\n",
       " 'demás': 118,\n",
       " 'tan': 118,\n",
       " 'enviado': 118,\n",
       " 'tam': 117,\n",
       " 'salieron': 117,\n",
       " 'carros': 117,\n",
       " 'honra': 117,\n",
       " 'san': 117,\n",
       " 'marido': 116,\n",
       " 'oseas': 115,\n",
       " 'principio': 115,\n",
       " 'her': 115,\n",
       " 'prójimo': 115,\n",
       " 'número': 115,\n",
       " 'vid': 115,\n",
       " '84': 115,\n",
       " 'estando': 114,\n",
       " 'joven': 114,\n",
       " 'ciento': 114,\n",
       " 'pasar': 114,\n",
       " 'llegaron': 114,\n",
       " 'leví': 114,\n",
       " 'voces': 114,\n",
       " 'pobres': 114,\n",
       " 'manda': 113,\n",
       " 'árbol': 113,\n",
       " 'bestias': 113,\n",
       " 'siendo': 113,\n",
       " 'acontecerá': 113,\n",
       " 'juramento': 113,\n",
       " 'cuenta': 113,\n",
       " 'sumo': 113,\n",
       " 'hablar': 113,\n",
       " 'labios': 113,\n",
       " 'región': 113,\n",
       " 'límite': 113,\n",
       " '59': 112,\n",
       " 'quedó': 112,\n",
       " 'tomaron': 112,\n",
       " 'mesa': 112,\n",
       " '55': 112,\n",
       " 'aldeas': 112,\n",
       " 'pondré': 111,\n",
       " 'seré': 111,\n",
       " 'setenta': 111,\n",
       " 'hice': 111,\n",
       " 'derecha': 111,\n",
       " '63': 111,\n",
       " 'ciu': 111,\n",
       " 'mía': 111,\n",
       " 'principal': 111,\n",
       " 'maría': 111,\n",
       " 'varones': 110,\n",
       " 'cordero': 110,\n",
       " 'nube': 110,\n",
       " 'absalón': 110,\n",
       " 'sacó': 109,\n",
       " 'tiempos': 109,\n",
       " 'levántate': 109,\n",
       " 'haz': 109,\n",
       " 'séptimo': 108,\n",
       " 'bién': 108,\n",
       " 'personas': 108,\n",
       " 'sabio': 108,\n",
       " 'puro': 108,\n",
       " 'amado': 108,\n",
       " 'respondiendo': 108,\n",
       " 'ester': 107,\n",
       " 'tenga': 107,\n",
       " 'semejante': 107,\n",
       " 'algo': 107,\n",
       " 'destrucción': 107,\n",
       " 'engaño': 107,\n",
       " 'ama': 107,\n",
       " 'ojo': 106,\n",
       " '57': 106,\n",
       " 'inmundo': 106,\n",
       " 'jeroboam': 106,\n",
       " 'éxodo': 105,\n",
       " 'lla': 105,\n",
       " 'sueño': 105,\n",
       " 'fuerza': 105,\n",
       " 'bendición': 105,\n",
       " 'becerro': 105,\n",
       " 'malvado': 105,\n",
       " 'niños': 105,\n",
       " 'decían': 105,\n",
       " 'cautivos': 105,\n",
       " 'orden': 104,\n",
       " 'tas': 104,\n",
       " 'jueces': 103,\n",
       " 'abr': 103,\n",
       " 'morirá': 103,\n",
       " 'carnero': 103,\n",
       " 'tendrá': 103,\n",
       " 'nues': 103,\n",
       " 'prov': 102,\n",
       " '76': 102,\n",
       " 'esposas': 102,\n",
       " 'viña': 102,\n",
       " '64': 102,\n",
       " '58': 102,\n",
       " 'tenían': 102,\n",
       " 'vara': 102,\n",
       " 'galilea': 102,\n",
       " 'vanidad': 102,\n",
       " 'estado': 101,\n",
       " 'lino': 101,\n",
       " 'enemigo': 101,\n",
       " 'atrio': 101,\n",
       " 'primer': 100,\n",
       " 'hierro': 100,\n",
       " 'cien': 100,\n",
       " 'volvieron': 100,\n",
       " '60': 100,\n",
       " 'gad': 100,\n",
       " 'roca': 100,\n",
       " 'principales': 100,\n",
       " 'mismos': 100,\n",
       " 'últimos': 99,\n",
       " 'seréis': 99,\n",
       " 'oíd': 99,\n",
       " 'pacto': 99,\n",
       " 'egipcios': 99,\n",
       " 'posesión': 99,\n",
       " 'león': 99,\n",
       " 'pobre': 99,\n",
       " 'matrimonio': 98,\n",
       " 'cho': 98,\n",
       " 'acaso': 98,\n",
       " 'cayó': 98,\n",
       " 'lle': 98,\n",
       " 'panes': 98,\n",
       " 'dirá': 98,\n",
       " 'culpa': 98,\n",
       " 'fortaleza': 98,\n",
       " 'utensilios': 98,\n",
       " 'huesos': 97,\n",
       " 'diablo': 97,\n",
       " 'castigo': 97,\n",
       " 'come': 97,\n",
       " 'buen': 97,\n",
       " 'nombres': 97,\n",
       " 'salvador': 96,\n",
       " 'llena': 96,\n",
       " 'ben': 96,\n",
       " 'man': 96,\n",
       " 'morada': 96,\n",
       " 'fariseos': 96,\n",
       " 'an': 95,\n",
       " 'ex': 95,\n",
       " 'llevado': 95,\n",
       " 'libre': 95,\n",
       " 'caballos': 95,\n",
       " 'sed': 95,\n",
       " 'aves': 94,\n",
       " 'noé': 94,\n",
       " 'fuese': 93,\n",
       " 'cuyo': 93,\n",
       " 'enojo': 93,\n",
       " 'infierno': 93,\n",
       " 'quedará': 93,\n",
       " 'siria': 93,\n",
       " 'señales': 92,\n",
       " 'sucedió': 92,\n",
       " 'ten': 92,\n",
       " 'tienes': 92,\n",
       " 'cuándo': 92,\n",
       " 'vestido': 92,\n",
       " 'jericó': 92,\n",
       " 'trabajo': 91,\n",
       " 'hago': 91,\n",
       " 'aflicción': 91,\n",
       " 'nom': 91,\n",
       " 'rubén': 91,\n",
       " 'llevaron': 91,\n",
       " 'vano': 91,\n",
       " 'profetiza': 91,\n",
       " 'necio': 91,\n",
       " 'js': 90,\n",
       " 'faz': 90,\n",
       " 'llegado': 90,\n",
       " 'bienes': 90,\n",
       " 'frente': 90,\n",
       " 'juzgar': 90,\n",
       " 'misericordioso': 90,\n",
       " 'dirás': 90,\n",
       " 'sabios': 90,\n",
       " 'fuertes': 90,\n",
       " 'marcos': 89,\n",
       " 'jue': 89,\n",
       " 'imagen': 89,\n",
       " 'volverá': 89,\n",
       " 'altos': 89,\n",
       " 'salir': 89,\n",
       " 'ciones': 89,\n",
       " 'amós': 88,\n",
       " 'sabe': 88,\n",
       " 'oyeron': 88,\n",
       " 'vientre': 88,\n",
       " 'echó': 88,\n",
       " 'voso': 88,\n",
       " 'juez': 88,\n",
       " 'subir': 88,\n",
       " 'mandamiento': 88,\n",
       " 'bueyes': 88,\n",
       " 'josafat': 88,\n",
       " 'l': 87,\n",
       " 'hirió': 87,\n",
       " 'hebrón': 87,\n",
       " 'malos': 87,\n",
       " 'salido': 87,\n",
       " 'hablaba': 87,\n",
       " 'dicen': 87,\n",
       " 'pondrá': 87,\n",
       " 'malvados': 87,\n",
       " 'testigo': 86,\n",
       " 'edificó': 86,\n",
       " 'valientes': 86,\n",
       " 'conocido': 86,\n",
       " 'abram': 86,\n",
       " 'orgullo': 86,\n",
       " 'miento': 86,\n",
       " 'sentado': 86,\n",
       " 'siclos': 86,\n",
       " 'alegría': 86,\n",
       " 'angustia': 86,\n",
       " 'ello': 86,\n",
       " 'tablas': 86,\n",
       " 'eliseo': 86,\n",
       " 'zacarías': 85,\n",
       " 'tercer': 85,\n",
       " 'generaciones': 85,\n",
       " 'flor': 85,\n",
       " 'asunto': 85,\n",
       " 'guardia': 85,\n",
       " 'comida': 85,\n",
       " 'rebelión': 85,\n",
       " ...}"
      ]
     },
     "execution_count": 16,
     "metadata": {},
     "output_type": "execute_result"
    }
   ],
   "source": [
    "words"
   ]
  },
  {
   "cell_type": "code",
   "execution_count": null,
   "id": "9bff8809",
   "metadata": {},
   "outputs": [],
   "source": [
    "import fitz\n",
    "doc = fitz.open(\"/data/DONQUIJOTE_PARTE1.pdf\")\n",
    "for page in doc:\n",
    "    print(page.get_text())\n"
   ]
  },
  {
   "cell_type": "markdown",
   "id": "ea975496",
   "metadata": {},
   "source": []
  },
  {
   "cell_type": "markdown",
   "id": "7ad77884",
   "metadata": {},
   "source": []
  }
 ],
 "metadata": {
  "kernelspec": {
   "display_name": "quijote",
   "language": "python",
   "name": "python3"
  },
  "language_info": {
   "codemirror_mode": {
    "name": "ipython",
    "version": 3
   },
   "file_extension": ".py",
   "mimetype": "text/x-python",
   "name": "python",
   "nbconvert_exporter": "python",
   "pygments_lexer": "ipython3",
   "version": "3.10.18"
  }
 },
 "nbformat": 4,
 "nbformat_minor": 5
}
