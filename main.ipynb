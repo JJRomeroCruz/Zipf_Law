{
 "cells": [
  {
   "cell_type": "markdown",
   "id": "e2302665",
   "metadata": {},
   "source": [
    "# Zipf Law "
   ]
  },
  {
   "cell_type": "code",
   "execution_count": 1,
   "id": "e269c088",
   "metadata": {},
   "outputs": [],
   "source": [
    "import numpy as np\n",
    "import matplotlib.pyplot as plt\n",
    "import pandas as pd\n",
    "import sys\n",
    "import os\n",
    "\n",
    "sys.path.insert(0, os.path.abspath(r'./utils/utils.py'))\n",
    "\n",
    "import utils.utils as utils"
   ]
  },
  {
   "cell_type": "code",
   "execution_count": 2,
   "id": "5dbc8bd7",
   "metadata": {},
   "outputs": [],
   "source": [
    "text1 = utils.PDFtoNumpy(\"data/DONQUIJOTE_PARTE1.pdf\")\n",
    "text2 = utils.PDFtoNumpy(\"data/DONQUIJOTE_PARTE2.pdf\")\n",
    "text1 = [x.replace(\"\\nPortal Educativo EducaCYL \\nhttp://www.educa.jcyl.es\", \"\") for x in text1]\n",
    "text2 = [x.replace(\"\\nPortal Educativo EducaCYL \\nhttp://www.educa.jcyl.es\", \"\") for x in text2]\n",
    "\n",
    "text3 = utils.PDFtoNumpy(\"data/biblia.pdf\")"
   ]
  },
  {
   "cell_type": "code",
   "execution_count": 3,
   "id": "c6fd1281",
   "metadata": {},
   "outputs": [],
   "source": [
    "text1 = utils.pdf2words(\"data/DONQUIJOTE_PARTE1.pdf\")\n",
    "text2 = utils.pdf2words(\"data/DONQUIJOTE_PARTE2.pdf\")"
   ]
  },
  {
   "cell_type": "code",
   "execution_count": null,
   "id": "214711b6",
   "metadata": {},
   "outputs": [],
   "source": []
  },
  {
   "cell_type": "code",
   "execution_count": 4,
   "id": "5c5e1061",
   "metadata": {},
   "outputs": [
    {
     "data": {
      "text/plain": [
       "Counter({'que': 10693,\n",
       "         'de': 8957,\n",
       "         'y': 8223,\n",
       "         'la': 4943,\n",
       "         'a': 4727,\n",
       "         'en': 3886,\n",
       "         'el': 3734,\n",
       "         'no': 2877,\n",
       "         'se': 2382,\n",
       "         'los': 2123,\n",
       "         'con': 2026,\n",
       "         'por': 1891,\n",
       "         'su': 1856,\n",
       "         'le': 1806,\n",
       "         'lo': 1780,\n",
       "         'las': 1473,\n",
       "         'es': 1465,\n",
       "         'me': 1154,\n",
       "         'como': 1139,\n",
       "         'del': 1113,\n",
       "         'más': 962,\n",
       "         'si': 923,\n",
       "         'yo': 896,\n",
       "         'un': 895,\n",
       "         'mi': 876,\n",
       "         'dijo': 867,\n",
       "         'Quijote': 843,\n",
       "         'al': 801,\n",
       "         'tan': 750,\n",
       "         'él': 747,\n",
       "         'porque': 729,\n",
       "         'don': 719,\n",
       "         'para': 704,\n",
       "         'Sancho': 690,\n",
       "         'había': 668,\n",
       "         'ni': 620,\n",
       "         'sin': 617,\n",
       "         'una': 599,\n",
       "         'todo': 569,\n",
       "         'o': 530,\n",
       "         'bien': 510,\n",
       "         'ser': 506,\n",
       "         'así': 489,\n",
       "         'sus': 488,\n",
       "         'era': 478,\n",
       "         'Y': 467,\n",
       "         'esto': 464,\n",
       "         'ha': 460,\n",
       "         'vuestra': 454,\n",
       "         'Portal': 452,\n",
       "         'Educativo': 452,\n",
       "         'EducaCYL': 452,\n",
       "         'http': 452,\n",
       "         'www': 452,\n",
       "         'educa': 452,\n",
       "         'jcyl': 452,\n",
       "         'respondió': 444,\n",
       "         'todos': 424,\n",
       "         'cual': 399,\n",
       "         'merced': 399,\n",
       "         'ya': 379,\n",
       "         'señor': 373,\n",
       "         'cuando': 368,\n",
       "         'ella': 364,\n",
       "         'fue': 358,\n",
       "         'Don': 348,\n",
       "         'pues': 347,\n",
       "         'donde': 347,\n",
       "         'te': 340,\n",
       "         'este': 330,\n",
       "         'pero': 323,\n",
       "         'caballero': 321,\n",
       "         'hacer': 318,\n",
       "         'sino': 316,\n",
       "         'quien': 305,\n",
       "         'muy': 300,\n",
       "         'dos': 299,\n",
       "         'qué': 299,\n",
       "         'aquel': 296,\n",
       "         'esta': 294,\n",
       "         'otra': 283,\n",
       "         'cosa': 278,\n",
       "         'decir': 266,\n",
       "         'aunque': 265,\n",
       "         'estaba': 265,\n",
       "         'allí': 260,\n",
       "         'No': 258,\n",
       "         'tanto': 247,\n",
       "         'mal': 247,\n",
       "         'cura': 246,\n",
       "         'otro': 246,\n",
       "         'he': 246,\n",
       "         'nos': 241,\n",
       "         'señora': 236,\n",
       "         'poco': 225,\n",
       "         'os': 222,\n",
       "         'ver': 216,\n",
       "         'tenía': 214,\n",
       "         'aquella': 214,\n",
       "         'alguna': 209,\n",
       "         'hasta': 209,\n",
       "         'manera': 208,\n",
       "         'luego': 208,\n",
       "         'aquí': 207,\n",
       "         'está': 200,\n",
       "         'buen': 199,\n",
       "         'vida': 199,\n",
       "         'verdad': 197,\n",
       "         'padre': 195,\n",
       "         'Dios': 194,\n",
       "         'ellos': 189,\n",
       "         'buena': 189,\n",
       "         'sobre': 188,\n",
       "         'les': 188,\n",
       "         'ahora': 184,\n",
       "         'tengo': 184,\n",
       "         'sé': 184,\n",
       "         'hay': 183,\n",
       "         'son': 181,\n",
       "         'dicho': 180,\n",
       "         'cosas': 180,\n",
       "         'parte': 180,\n",
       "         'lugar': 175,\n",
       "         'tiempo': 171,\n",
       "         'mundo': 170,\n",
       "         'dar': 170,\n",
       "         'mis': 170,\n",
       "         'uno': 170,\n",
       "         'tal': 167,\n",
       "         'puesto': 166,\n",
       "         'tiene': 165,\n",
       "         'toda': 164,\n",
       "         'mas': 163,\n",
       "         'amo': 162,\n",
       "         'En': 160,\n",
       "         'menos': 160,\n",
       "         'todas': 157,\n",
       "         'entre': 156,\n",
       "         'mucho': 155,\n",
       "         'han': 155,\n",
       "         'caballeros': 154,\n",
       "         'fuera': 154,\n",
       "         'tu': 154,\n",
       "         'mí': 150,\n",
       "         'Camila': 150,\n",
       "         'tierra': 149,\n",
       "         'mejor': 148,\n",
       "         'mano': 148,\n",
       "         'casa': 147,\n",
       "         'aun': 144,\n",
       "         'hecho': 144,\n",
       "         'habían': 142,\n",
       "         'Lotario': 142,\n",
       "         'algún': 140,\n",
       "         'hizo': 140,\n",
       "         'puede': 138,\n",
       "         'cielo': 137,\n",
       "         'Anselmo': 137,\n",
       "         'barbero': 136,\n",
       "         'cómo': 136,\n",
       "         'gran': 135,\n",
       "         'otras': 135,\n",
       "         'visto': 134,\n",
       "         'amigo': 132,\n",
       "         'dio': 131,\n",
       "         'antes': 131,\n",
       "         'Dorotea': 131,\n",
       "         'tener': 128,\n",
       "         'cuanto': 128,\n",
       "         'ojos': 128,\n",
       "         'punto': 127,\n",
       "         'saber': 127,\n",
       "         'día': 126,\n",
       "         'sea': 126,\n",
       "         'El': 124,\n",
       "         'haber': 124,\n",
       "         'decía': 124,\n",
       "         'podía': 123,\n",
       "         'tú': 122,\n",
       "         'mismo': 121,\n",
       "         'eso': 121,\n",
       "         'camino': 120,\n",
       "         'Panza': 120,\n",
       "         'hombre': 119,\n",
       "         'Rocinante': 119,\n",
       "         'estas': 118,\n",
       "         'Pues': 118,\n",
       "         'Fernando': 118,\n",
       "         'razones': 117,\n",
       "         'fin': 116,\n",
       "         'otros': 116,\n",
       "         'estos': 116,\n",
       "         'días': 115,\n",
       "         'mucha': 115,\n",
       "         'parece': 115,\n",
       "         'digo': 115,\n",
       "         'gusto': 114,\n",
       "         'después': 114,\n",
       "         'sólo': 113,\n",
       "         'Pero': 112,\n",
       "         'voluntad': 112,\n",
       "         'será': 111,\n",
       "         'soy': 111,\n",
       "         'venta': 111,\n",
       "         'quiero': 110,\n",
       "         'libros': 110,\n",
       "         'también': 110,\n",
       "         'manos': 110,\n",
       "         'vio': 110,\n",
       "         'fuese': 107,\n",
       "         'noche': 107,\n",
       "         'tanta': 106,\n",
       "         'tres': 105,\n",
       "         'nuestro': 105,\n",
       "         'escudero': 105,\n",
       "         'muchas': 104,\n",
       "         'eran': 103,\n",
       "         'diciendo': 103,\n",
       "         'Cardenio': 103,\n",
       "         'duda': 102,\n",
       "         'quién': 102,\n",
       "         'grande': 102,\n",
       "         'cuenta': 102,\n",
       "         'veces': 101,\n",
       "         'deseo': 100,\n",
       "         'sí': 100,\n",
       "         'ventero': 98,\n",
       "         'Luscinda': 98,\n",
       "         'quiso': 97,\n",
       "         'vez': 96,\n",
       "         'cabeza': 95,\n",
       "         'historia': 94,\n",
       "         'primero': 94,\n",
       "         'A': 94,\n",
       "         'palabra': 93,\n",
       "         'andante': 92,\n",
       "         'mío': 92,\n",
       "         'caballo': 91,\n",
       "         'caballería': 90,\n",
       "         'sido': 89,\n",
       "         'suerte': 89,\n",
       "         'menester': 89,\n",
       "         'mía': 89,\n",
       "         'cada': 89,\n",
       "         'mujer': 89,\n",
       "         'aquellos': 88,\n",
       "         'Dulcinea': 88,\n",
       "         'nombre': 87,\n",
       "         'muchos': 87,\n",
       "         'desde': 87,\n",
       "         'vino': 86,\n",
       "         'jamás': 86,\n",
       "         'vos': 86,\n",
       "         'Así': 86,\n",
       "         'desta': 86,\n",
       "         'andantes': 85,\n",
       "         'adelante': 85,\n",
       "         'tales': 84,\n",
       "         'gente': 84,\n",
       "         'entender': 83,\n",
       "         'iba': 83,\n",
       "         'replicó': 82,\n",
       "         'entonces': 82,\n",
       "         'llegó': 81,\n",
       "         'modo': 81,\n",
       "         'dice': 81,\n",
       "         'memoria': 81,\n",
       "         'parecer': 81,\n",
       "         'voz': 81,\n",
       "         'hermosa': 81,\n",
       "         'Qué': 81,\n",
       "         'poner': 80,\n",
       "         'estaban': 80,\n",
       "         'debe': 80,\n",
       "         'fuerza': 80,\n",
       "         'cuales': 80,\n",
       "         'tantas': 78,\n",
       "         'mesmo': 78,\n",
       "         'Zoraida': 78,\n",
       "         'alguno': 77,\n",
       "         'según': 77,\n",
       "         'causa': 77,\n",
       "         'doncella': 77,\n",
       "         'armas': 76,\n",
       "         'ocasión': 76,\n",
       "         'dado': 76,\n",
       "         'vuestro': 76,\n",
       "         'nada': 76,\n",
       "         'pie': 75,\n",
       "         'hija': 75,\n",
       "         'palabras': 75,\n",
       "         'rey': 75,\n",
       "         'fueron': 75,\n",
       "         'amor': 74,\n",
       "         'aquello': 73,\n",
       "         'demás': 73,\n",
       "         'viendo': 73,\n",
       "         'voces': 73,\n",
       "         'De': 73,\n",
       "         'comenzó': 72,\n",
       "         'puso': 72,\n",
       "         'contra': 72,\n",
       "         'va': 72,\n",
       "         'daba': 71,\n",
       "         'razón': 71,\n",
       "         'ir': 71,\n",
       "         'caso': 70,\n",
       "         'hace': 70,\n",
       "         'salir': 70,\n",
       "         'quedó': 70,\n",
       "         'hubo': 70,\n",
       "         'delante': 70,\n",
       "         'posible': 70,\n",
       "         'nunca': 70,\n",
       "         'rostro': 69,\n",
       "         'persona': 69,\n",
       "         'mala': 69,\n",
       "         'Si': 69,\n",
       "         'estar': 68,\n",
       "         'siempre': 68,\n",
       "         'ninguna': 68,\n",
       "         'hermosura': 68,\n",
       "         'castillo': 67,\n",
       "         'alma': 67,\n",
       "         'ellas': 67,\n",
       "         'ventura': 67,\n",
       "         'suelo': 67,\n",
       "         'mayor': 67,\n",
       "         'mil': 67,\n",
       "         'muerte': 67,\n",
       "         'deste': 66,\n",
       "         'nuevo': 66,\n",
       "         'tantos': 66,\n",
       "         'Yo': 66,\n",
       "         'reino': 65,\n",
       "         'nadie': 65,\n",
       "         'nosotros': 65,\n",
       "         'poder': 64,\n",
       "         'aún': 64,\n",
       "         'pena': 64,\n",
       "         'tienen': 64,\n",
       "         'pudo': 63,\n",
       "         'Con': 63,\n",
       "         'cabo': 63,\n",
       "         'algunos': 63,\n",
       "         'cuatro': 63,\n",
       "         'pies': 63,\n",
       "         'has': 63,\n",
       "         'casi': 62,\n",
       "         'aquellas': 62,\n",
       "         'estado': 62,\n",
       "         'ese': 62,\n",
       "         'ello': 61,\n",
       "         'valor': 61,\n",
       "         'tuvo': 61,\n",
       "         'dejar': 61,\n",
       "         'pasar': 61,\n",
       "         'quiere': 61,\n",
       "         'algo': 60,\n",
       "         'partes': 60,\n",
       "         'brazo': 60,\n",
       "         'unos': 60,\n",
       "         'haya': 60,\n",
       "         'cierto': 60,\n",
       "         'junto': 60,\n",
       "         'La': 60,\n",
       "         'espada': 59,\n",
       "         'muerto': 59,\n",
       "         'fama': 59,\n",
       "         'debía': 59,\n",
       "         'mitad': 59,\n",
       "         'parecía': 59,\n",
       "         'hacia': 59,\n",
       "         'tus': 59,\n",
       "         'cuerpo': 58,\n",
       "         'suyo': 58,\n",
       "         'contento': 58,\n",
       "         'venir': 58,\n",
       "         'pareció': 57,\n",
       "         'podría': 57,\n",
       "         'Toboso': 57,\n",
       "         'intención': 57,\n",
       "         'fe': 57,\n",
       "         'cuento': 56,\n",
       "         'juicio': 56,\n",
       "         'tomar': 56,\n",
       "         'aventuras': 56,\n",
       "         'dicen': 56,\n",
       "         'Por': 56,\n",
       "         'entendimiento': 56,\n",
       "         'aventura': 55,\n",
       "         'oído': 55,\n",
       "         'libertad': 55,\n",
       "         'años': 54,\n",
       "         'hermano': 54,\n",
       "         'boca': 54,\n",
       "         'pecho': 54,\n",
       "         'Todo': 54,\n",
       "         'volver': 54,\n",
       "         'aposento': 54,\n",
       "         'señores': 54,\n",
       "         'dejó': 53,\n",
       "         'Capítulo': 53,\n",
       "         'famoso': 52,\n",
       "         'mozo': 52,\n",
       "         'dél': 52,\n",
       "         'ninguno': 52,\n",
       "         'orden': 52,\n",
       "         'lengua': 52,\n",
       "         'asno': 52,\n",
       "         'lágrimas': 52,\n",
       "         'mesma': 52,\n",
       "         'llevar': 51,\n",
       "         'siendo': 51,\n",
       "         'habéis': 51,\n",
       "         'viene': 51,\n",
       "         'cristianos': 51,\n",
       "         'carta': 51,\n",
       "         'honra': 50,\n",
       "         'buscar': 50,\n",
       "         'hacía': 50,\n",
       "         'Mas': 50,\n",
       "         'quería': 50,\n",
       "         'algunas': 50,\n",
       "         'ciudad': 50,\n",
       "         'leer': 49,\n",
       "         'caballerías': 49,\n",
       "         'encantado': 49,\n",
       "         'querer': 49,\n",
       "         'corazón': 49,\n",
       "         'están': 49,\n",
       "         'presto': 49,\n",
       "         'hablar': 49,\n",
       "         'quizá': 49,\n",
       "         'nuestra': 49,\n",
       "         'Que': 48,\n",
       "         'bueno': 48,\n",
       "         'tomó': 48,\n",
       "         'volvió': 48,\n",
       "         'misma': 48,\n",
       "         'esa': 48,\n",
       "         'gigante': 47,\n",
       "         'solo': 47,\n",
       "         'falta': 47,\n",
       "         'preguntó': 47,\n",
       "         'canónigo': 47,\n",
       "         'Mancha': 46,\n",
       "         'brazos': 46,\n",
       "         'e': 46,\n",
       "         'adonde': 46,\n",
       "         'cuán': 46,\n",
       "         'hora': 46,\n",
       "         'gana': 46,\n",
       "         'pueda': 46,\n",
       "         'pienso': 46,\n",
       "         'Señor': 46,\n",
       "         'vista': 46,\n",
       "         'reina': 46,\n",
       "         'della': 45,\n",
       "         'libro': 45,\n",
       "         'halló': 45,\n",
       "         'pudiera': 45,\n",
       "         'llamaba': 45,\n",
       "         'sangre': 45,\n",
       "         'creo': 45,\n",
       "         'dieron': 45,\n",
       "         'cabrero': 45,\n",
       "         'pensamientos': 44,\n",
       "         'medio': 44,\n",
       "         'pensamiento': 44,\n",
       "         'princesa': 44,\n",
       "         'pensaba': 44,\n",
       "         'hicieron': 44,\n",
       "         'pensar': 44,\n",
       "         'da': 44,\n",
       "         'agua': 44,\n",
       "         'cristiano': 44,\n",
       "         'Digo': 44,\n",
       "         'hombres': 44,\n",
       "         'Leonela': 44,\n",
       "         'renegado': 44,\n",
       "         'batalla': 43,\n",
       "         'cerca': 43,\n",
       "         'natural': 43,\n",
       "         'apenas': 43,\n",
       "         'traía': 43,\n",
       "         'comer': 43,\n",
       "         'desgracia': 43,\n",
       "         'buenos': 43,\n",
       "         'venía': 43,\n",
       "         'Ya': 43,\n",
       "         'dije': 43,\n",
       "         'nuevas': 43,\n",
       "         'semejantes': 42,\n",
       "         'grandes': 42,\n",
       "         'locura': 42,\n",
       "         'vuestras': 42,\n",
       "         'muestras': 42,\n",
       "         'sería': 42,\n",
       "         'hubiera': 42,\n",
       "         'deseos': 42,\n",
       "         'culpa': 42,\n",
       "         'venían': 42,\n",
       "         'padres': 42,\n",
       "         'criado': 41,\n",
       "         'loco': 41,\n",
       "         'peligro': 41,\n",
       "         'cautivo': 41,\n",
       "         'Bien': 41,\n",
       "         'oír': 41,\n",
       "         'estoy': 41,\n",
       "         'sabe': 41,\n",
       "         'habiendo': 41,\n",
       "         'remedio': 41,\n",
       "         'hijo': 40,\n",
       "         'tenían': 40,\n",
       "         'discurso': 40,\n",
       "         'puerta': 40,\n",
       "         'llegar': 40,\n",
       "         'entrar': 40,\n",
       "         'sabía': 40,\n",
       "         'tras': 40,\n",
       "         'obra': 40,\n",
       "         'debajo': 40,\n",
       "         'silencio': 40,\n",
       "         'Porque': 40,\n",
       "         'ti': 40,\n",
       "         'oidor': 40,\n",
       "         'dellos': 39,\n",
       "         'Oh': 39,\n",
       "         'enamorado': 39,\n",
       "         'mercedes': 39,\n",
       "         'trabajo': 39,\n",
       "         'tuviese': 39,\n",
       "         'suele': 39,\n",
       "         'Luis': 39,\n",
       "         'primera': 38,\n",
       "         'cuya': 38,\n",
       "         'dando': 38,\n",
       "         'conmigo': 38,\n",
       "         'madre': 38,\n",
       "         'fortuna': 38,\n",
       "         'triste': 38,\n",
       "         'pobre': 37,\n",
       "         'leído': 37,\n",
       "         'mañana': 37,\n",
       "         'espacio': 37,\n",
       "         'cuidado': 37,\n",
       "         'estando': 37,\n",
       "         'esperar': 37,\n",
       "         'suceso': 37,\n",
       "         'salió': 36,\n",
       "         'principio': 36,\n",
       "         'quisiera': 36,\n",
       "         'vieron': 36,\n",
       "         'España': 36,\n",
       "         'creer': 36,\n",
       "         'tenido': 36,\n",
       "         'mirar': 36,\n",
       "         'hago': 36,\n",
       "         'temor': 36,\n",
       "         'dé': 36,\n",
       "         'buenas': 36,\n",
       "         'daño': 36,\n",
       "         'enemigo': 36,\n",
       "         'moros': 36,\n",
       "         'mar': 36,\n",
       "         'nuestros': 36,\n",
       "         'yelmo': 36,\n",
       "         'provecho': 36,\n",
       "         'Triste': 36,\n",
       "         'Figura': 36,\n",
       "         'campo': 35,\n",
       "         'edad': 35,\n",
       "         'cuantos': 35,\n",
       "         'unas': 35,\n",
       "         'ningún': 35,\n",
       "         'marido': 35,\n",
       "         'hallado': 35,\n",
       "         'sazón': 35,\n",
       "         'hubiese': 35,\n",
       "         'Eso': 35,\n",
       "         'oh': 35,\n",
       "         'esposa': 35,\n",
       "         'dijese': 35,\n",
       "         'diablo': 35,\n",
       "         'podrá': 35,\n",
       "         'dolor': 35,\n",
       "         'sola': 35,\n",
       "         'éste': 35,\n",
       "         'agora': 35,\n",
       "         'lanza': 34,\n",
       "         'hacen': 34,\n",
       "         'acabar': 34,\n",
       "         'oro': 34,\n",
       "         'estuvo': 34,\n",
       "         'hallar': 34,\n",
       "         'pasado': 34,\n",
       "         'haré': 34,\n",
       "         'tenga': 34,\n",
       "         'rico': 34,\n",
       "         'criados': 34,\n",
       "         'jumento': 34,\n",
       "         'puedo': 34,\n",
       "         'dices': 34,\n",
       "         'papel': 34,\n",
       "         'esposo': 34,\n",
       "         'condición': 33,\n",
       "         'Amadís': 33,\n",
       "         'queda': 33,\n",
       "         'valeroso': 33,\n",
       "         'supo': 33,\n",
       "         'fuesen': 33,\n",
       "         'hazañas': 33,\n",
       "         'pudiese': 33,\n",
       "         'lejos': 33,\n",
       "         'andaba': 33,\n",
       "         'alta': 33,\n",
       "         'entró': 33,\n",
       "         'oídos': 33,\n",
       "         'guerra': 33,\n",
       "         'paz': 33,\n",
       "         'compañía': 33,\n",
       "         'darle': 32,\n",
       "         'perder': 32,\n",
       "         'fuerte': 32,\n",
       "         'verdadera': 32,\n",
       "         'suya': 32,\n",
       "         'sol': 32,\n",
       "         'acaso': 32,\n",
       "         'llaman': 32,\n",
       "         'iban': 32,\n",
       "         'ánimo': 32,\n",
       "         'diese': 32,\n",
       "         'pastor': 32,\n",
       "         'pesadumbre': 32,\n",
       "         'caer': 32,\n",
       "         'dónde': 32,\n",
       "         'bacía': 32,\n",
       "         'pasaba': 31,\n",
       "         'imaginación': 31,\n",
       "         'vió': 31,\n",
       "         'necesidad': 31,\n",
       "         'haría': 31,\n",
       "         'virtud': 31,\n",
       "         'sepa': 31,\n",
       "         'licenciado': 31,\n",
       "         'sean': 31,\n",
       "         'bondad': 31,\n",
       "         'silla': 31,\n",
       "         'amistad': 31,\n",
       "         'ansí': 31,\n",
       "         'Maritornes': 31,\n",
       "         'ésta': 31,\n",
       "         'Caballero': 31,\n",
       "         'barca': 31,\n",
       "         'mirando': 30,\n",
       "         'mujeres': 30,\n",
       "         'miedo': 30,\n",
       "         'fuere': 30,\n",
       "         'dineros': 30,\n",
       "         'lado': 30,\n",
       "         'haga': 30,\n",
       "         'fuego': 30,\n",
       "         'capitán': 30,\n",
       "         'principal': 30,\n",
       "         'esperanza': 30,\n",
       "         'ventera': 30,\n",
       "         'escrito': 29,\n",
       "         'mayores': 29,\n",
       "         'dormir': 29,\n",
       "         'amores': 29,\n",
       "         'género': 29,\n",
       "         'priesa': 29,\n",
       "         'finalmente': 29,\n",
       "         'poca': 29,\n",
       "         'juro': 29,\n",
       "         'Esta': 29,\n",
       "         'Lo': 29,\n",
       "         'allá': 29,\n",
       "         'suelen': 29,\n",
       "         'quedaron': 29,\n",
       "         'veo': 29,\n",
       "         'llevaba': 29,\n",
       "         'hacienda': 28,\n",
       "         'resolución': 28,\n",
       "         'disparates': 28,\n",
       "         'deseaba': 28,\n",
       "         'prosiguió': 28,\n",
       "         'toca': 28,\n",
       "         'aldea': 28,\n",
       "         'acabó': 28,\n",
       "         'haciendo': 28,\n",
       "         'quieres': 28,\n",
       "         'paso': 28,\n",
       "         'prometido': 28,\n",
       "         'valiente': 28,\n",
       "         'seis': 28,\n",
       "         'dueño': 28,\n",
       "         'versos': 28,\n",
       "         'sucesos': 28,\n",
       "         'moro': 28,\n",
       "         'destas': 28,\n",
       "         'traje': 28,\n",
       "         'Grisóstomo': 28,\n",
       "         'destos': 28,\n",
       "         'efeto': 28,\n",
       "         'albarda': 28,\n",
       "         'lleno': 27,\n",
       "         'agravio': 27,\n",
       "         'ahí': 27,\n",
       "         'viento': 27,\n",
       "         'labrador': 27,\n",
       "         'Pedro': 27,\n",
       "         'amigos': 27,\n",
       "         'vuelto': 27,\n",
       "         'término': 27,\n",
       "         'pueden': 27,\n",
       "         'andar': 27,\n",
       "         'tienes': 27,\n",
       "         'vestido': 27,\n",
       "         'alcanzar': 27,\n",
       "         'honestidad': 27,\n",
       "         'cuyo': 26,\n",
       "         'ama': 26,\n",
       "         'Es': 26,\n",
       "         'claro': 26,\n",
       "         'experiencia': 26,\n",
       "         'dama': 26,\n",
       "         'viese': 26,\n",
       "         'pastores': 26,\n",
       "         'risa': 26,\n",
       "         'favor': 26,\n",
       "         'Los': 26,\n",
       "         'vosotros': 26,\n",
       "         'quedar': 26,\n",
       "         'discreción': 26,\n",
       "         'libre': 26,\n",
       "         'hoy': 26,\n",
       "         'contó': 26,\n",
       "         'esté': 26,\n",
       "         'fueran': 26,\n",
       "         'desdichado': 26,\n",
       "         'diligencia': 26,\n",
       "         'venganza': 26,\n",
       "         'hacían': 26,\n",
       "         'Marcela': 26,\n",
       "         'especialmente': 26,\n",
       "         'personas': 26,\n",
       "         'señas': 26,\n",
       "         'dentro': 25,\n",
       "         'conocido': 25,\n",
       "         'quitó': 25,\n",
       "         'consigo': 25,\n",
       "         'sabio': 25,\n",
       "         'cabellos': 25,\n",
       "         'servido': 25,\n",
       "         'diciéndole': 25,\n",
       "         'cargo': 25,\n",
       "         'rogó': 25,\n",
       "         'hijos': 25,\n",
       "         'veras': 25,\n",
       "         'sois': 25,\n",
       "         'eres': 25,\n",
       "         'acuerdo': 25,\n",
       "         'todavía': 25,\n",
       "         'venia': 25,\n",
       "         'barbas': 25,\n",
       "         'negocio': 25,\n",
       "         'darme': 25,\n",
       "         'muestra': 25,\n",
       "         'contado': 25,\n",
       "         'ausencia': 25,\n",
       "         'vi': 25,\n",
       "         'llama': 24,\n",
       "         'autor': 24,\n",
       "         'pueblo': 24,\n",
       "         'efecto': 24,\n",
       "         'nueva': 24,\n",
       "         'llamar': 24,\n",
       "         'moza': 24,\n",
       "         'armado': 24,\n",
       "         'propósito': 24,\n",
       "         'dejando': 24,\n",
       "         'cama': 24,\n",
       "         'caminos': 24,\n",
       "         'Luego': 24,\n",
       "         'enojo': 24,\n",
       "         'paciencia': 24,\n",
       "         'verse': 24,\n",
       "         'Donde': 24,\n",
       "         'oyó': 24,\n",
       "         'decirle': 24,\n",
       "         'buscando': 24,\n",
       "         'conocer': 24,\n",
       "         'venido': 24,\n",
       "         'consejo': 24,\n",
       "         'obras': 24,\n",
       "         'acá': 24,\n",
       "         'sucedido': 24,\n",
       "         'puedes': 24,\n",
       "         'primer': 24,\n",
       "         'discreto': 24,\n",
       "         'decís': 24,\n",
       "         'nuestras': 24,\n",
       "         'quisiere': 24,\n",
       "         'ventana': 24,\n",
       "         'Este': 24,\n",
       "         'dejaba': 24,\n",
       "         'gloria': 24,\n",
       "         'burla': 24,\n",
       "         'vizcaíno': 24,\n",
       "         'sacar': 24,\n",
       "         'encima': 24,\n",
       "         'Santa': 24,\n",
       "         'hemos': 24,\n",
       "         'pusieron': 24,\n",
       "         'cuál': 23,\n",
       "         'real': 23,\n",
       "         'mandó': 23,\n",
       "         'hechos': 23,\n",
       "         'Viendo': 23,\n",
       "         'huésped': 23,\n",
       "         'llamado': 23,\n",
       "         'peor': 23,\n",
       "         'presencia': 23,\n",
       "         'dejado': 23,\n",
       "         'quitar': 23,\n",
       "         'sosiego': 23,\n",
       "         'noticia': 23,\n",
       "         'hiciese': 23,\n",
       "         'pasó': 23,\n",
       "         'doce': 23,\n",
       "         'trae': 23,\n",
       "         'presteza': 23,\n",
       "         'letras': 23,\n",
       "         'grado': 23,\n",
       "         'di': 23,\n",
       "         'seguir': 23,\n",
       "         'hice': 23,\n",
       "         'discreta': 23,\n",
       "         'diré': 23,\n",
       "         'querría': 23,\n",
       "         'duque': 23,\n",
       "         'jardín': 23,\n",
       "         'cuadrilleros': 23,\n",
       "         'ejercicio': 22,\n",
       "         'hidalgo': 22,\n",
       "         'deja': 22,\n",
       "         'industria': 22,\n",
       "         'irse': 22,\n",
       "         'media': 22,\n",
       "         'pedazos': 22,\n",
       "         'vivo': 22,\n",
       "         'ante': 22,\n",
       "         'Quién': 22,\n",
       "         'tiempos': 22,\n",
       "         'luz': 22,\n",
       "         'llegando': 22,\n",
       "         'señal': 22,\n",
       "         'señoras': 22,\n",
       "         'donaire': 22,\n",
       "         'venga': 22,\n",
       "         'quiera': 22,\n",
       "         'horas': 22,\n",
       "         'quedaba': 22,\n",
       "         'doy': 22,\n",
       "         'villano': 22,\n",
       "         'llegaron': 22,\n",
       "         'dejase': 22,\n",
       "         'hecha': 22,\n",
       "         'deben': 22,\n",
       "         'emperador': 22,\n",
       "         'van': 22,\n",
       "         'licencia': 22,\n",
       "         'árboles': 22,\n",
       "         'justo': 22,\n",
       "         'espaldas': 22,\n",
       "         'forzoso': 22,\n",
       "         'vestidos': 22,\n",
       "         'plática': 22,\n",
       "         'soldado': 22,\n",
       "         'jaula': 22,\n",
       "         'trata': 21,\n",
       "         'basta': 21,\n",
       "         'llevó': 21,\n",
       "         'cierta': 21,\n",
       "         'veía': 21,\n",
       "         'dió': 21,\n",
       "         'facilidad': 21,\n",
       "         'alto': 21,\n",
       "         'ínsula': 21,\n",
       "         'corral': 21,\n",
       "         'mostraba': 21,\n",
       "         'hallaron': 21,\n",
       "         'doncellas': 21,\n",
       "         'servir': 21,\n",
       "         'determinación': 21,\n",
       "         'podían': 21,\n",
       "         'asimismo': 21,\n",
       "         'mira': 21,\n",
       "         'segundo': 21,\n",
       "         'ruido': 21,\n",
       "         'obligado': 21,\n",
       "         'Ella': 21,\n",
       "         'andado': 21,\n",
       "         'responder': 21,\n",
       "         'cólera': 21,\n",
       "         'tío': 21,\n",
       "         'abajo': 21,\n",
       "         'verdadero': 21,\n",
       "         'conozco': 21,\n",
       "         'vea': 21,\n",
       "         'mejores': 21,\n",
       "         'mula': 21,\n",
       "         'sobresalto': 21,\n",
       "         'fuerzas': 21,\n",
       "         'habrá': 21,\n",
       "         'quisieres': 21,\n",
       "         'mentira': 21,\n",
       "         'locuras': 21,\n",
       "         'entrambos': 21,\n",
       "         'daré': 21,\n",
       "         'señales': 20,\n",
       "         'letra': 20,\n",
       "         'hiciera': 20,\n",
       "         'Gaula': 20,\n",
       "         'celada': 20,\n",
       "         'malos': 20,\n",
       "         'hambre': 20,\n",
       "         'damas': 20,\n",
       "         'instante': 20,\n",
       "         'oyeron': 20,\n",
       "         'entiendo': 20,\n",
       "         'ponía': 20,\n",
       "         'calidad': 20,\n",
       "         'dientes': 20,\n",
       "         'oficio': 20,\n",
       "         'pocos': 20,\n",
       "         'pasos': 20,\n",
       "         'Juan': 20,\n",
       "         'pide': 20,\n",
       "         'sabes': 20,\n",
       "         'llegado': 20,\n",
       "         'Esto': 20,\n",
       "         'parar': 20,\n",
       "         'ganado': 20,\n",
       "         'voy': 20,\n",
       "         'quisiese': 20,\n",
       "         'coche': 20,\n",
       "         'verás': 20,\n",
       "         'vuelta': 20,\n",
       "         'Ahora': 20,\n",
       "         'papeles': 20,\n",
       "         'Hermandad': 20,\n",
       "         'querido': 20,\n",
       "         'opinión': 20,\n",
       "         'cruel': 20,\n",
       "         'dinero': 20,\n",
       "         'Clara': 20,\n",
       "         'sobrina': 19,\n",
       "         'veinte': 19,\n",
       "         'grandeza': 19,\n",
       "         'llevado': 19,\n",
       "         'empresa': 19,\n",
       "         'creyendo': 19,\n",
       "         'verdaderamente': 19,\n",
       "         'tuviera': 19,\n",
       "         'esperando': 19,\n",
       "         'sucedió': 19,\n",
       "         'pan': 19,\n",
       "         'caña': 19,\n",
       "         'cortesía': 19,\n",
       "         'escuderos': 19,\n",
       "         'alzó': 19,\n",
       "         'muchacho': 19,\n",
       "         'pagar': 19,\n",
       "         'juntos': 19,\n",
       "         'arremetió': 19,\n",
       "         'oyendo': 19,\n",
       "         'respuesta': 19,\n",
       "         'palos': 19,\n",
       "         'hallo': 19,\n",
       "         'justicia': 19,\n",
       "         'llevan': 19,\n",
       "         'acudir': 19,\n",
       "         'Cuando': 19,\n",
       "         'viaje': 19,\n",
       "         'contrario': 19,\n",
       "         'blanco': 19,\n",
       "         'carne': 19,\n",
       "         'decían': 19,\n",
       "         'desventura': 19,\n",
       "         'viniese': 19,\n",
       "         'echó': 19,\n",
       "         'guarda': 19,\n",
       "         'lanzón': 19,\n",
       "         'cristiana': 19,\n",
       "         'llorar': 19,\n",
       "         'infanta': 19,\n",
       "         ...})"
      ]
     },
     "execution_count": 4,
     "metadata": {},
     "output_type": "execute_result"
    }
   ],
   "source": [
    "from collections import Counter\n",
    "Counter(text1)"
   ]
  },
  {
   "cell_type": "code",
   "execution_count": 7,
   "id": "5cd9f82e",
   "metadata": {},
   "outputs": [
    {
     "data": {
      "application/vnd.plotly.v1+json": {
       "config": {
        "plotlyServerURL": "https://plot.ly"
       },
       "data": [
        {
         "hovertemplate": "<b>%{hovertext}</b><br>Rango: %{x}<br>Frecuencia: %{y}",
         "hovertext": [
          "que",
          "de",
          "y",
          "la",
          "a",
          "el",
          "en",
          "no",
          "los",
          "se",
          "con",
          "las",
          "por",
          "es",
          "lo",
          "le",
          "don",
          "su",
          "Sancho",
          "Quijote"
         ],
         "legendgroup": "",
         "marker": {
          "color": {
           "bdata": "Myc4JAMkGhU6E7MQ5A+9CxMKOQkyCKMHggdnBmYGXQYIBuMF1gVOBQ==",
           "dtype": "i2"
          },
          "coloraxis": "coloraxis",
          "opacity": 0.7,
          "size": {
           "bdata": "Myc4JAMkGhU6E7MQ5A+9CxMKOQkyCKMHggdnBmYGXQYIBuMF1gVOBQ==",
           "dtype": "i2"
          },
          "sizemode": "area",
          "sizeref": 2.7875,
          "symbol": "circle"
         },
         "mode": "markers",
         "name": "",
         "orientation": "v",
         "showlegend": false,
         "type": "scatter",
         "x": {
          "bdata": "AQIDBAUGBwgJCgsMDQ4PEBESExQ=",
          "dtype": "i1"
         },
         "xaxis": "x",
         "y": {
          "bdata": "Myc4JAMkGhU6E7MQ5A+9CxMKOQkyCKMHggdnBmYGXQYIBuMF1gVOBQ==",
          "dtype": "i2"
         },
         "yaxis": "y"
        }
       ],
       "layout": {
        "coloraxis": {
         "colorbar": {
          "title": {
           "text": "Frecuencia"
          }
         },
         "colorscale": [
          [
           0,
           "#0d0887"
          ],
          [
           0.1111111111111111,
           "#46039f"
          ],
          [
           0.2222222222222222,
           "#7201a8"
          ],
          [
           0.3333333333333333,
           "#9c179e"
          ],
          [
           0.4444444444444444,
           "#bd3786"
          ],
          [
           0.5555555555555556,
           "#d8576b"
          ],
          [
           0.6666666666666666,
           "#ed7953"
          ],
          [
           0.7777777777777778,
           "#fb9f3a"
          ],
          [
           0.8888888888888888,
           "#fdca26"
          ],
          [
           1,
           "#f0f921"
          ]
         ]
        },
        "legend": {
         "itemsizing": "constant",
         "tracegroupgap": 0
        },
        "template": {
         "data": {
          "bar": [
           {
            "error_x": {
             "color": "#2a3f5f"
            },
            "error_y": {
             "color": "#2a3f5f"
            },
            "marker": {
             "line": {
              "color": "#E5ECF6",
              "width": 0.5
             },
             "pattern": {
              "fillmode": "overlay",
              "size": 10,
              "solidity": 0.2
             }
            },
            "type": "bar"
           }
          ],
          "barpolar": [
           {
            "marker": {
             "line": {
              "color": "#E5ECF6",
              "width": 0.5
             },
             "pattern": {
              "fillmode": "overlay",
              "size": 10,
              "solidity": 0.2
             }
            },
            "type": "barpolar"
           }
          ],
          "carpet": [
           {
            "aaxis": {
             "endlinecolor": "#2a3f5f",
             "gridcolor": "white",
             "linecolor": "white",
             "minorgridcolor": "white",
             "startlinecolor": "#2a3f5f"
            },
            "baxis": {
             "endlinecolor": "#2a3f5f",
             "gridcolor": "white",
             "linecolor": "white",
             "minorgridcolor": "white",
             "startlinecolor": "#2a3f5f"
            },
            "type": "carpet"
           }
          ],
          "choropleth": [
           {
            "colorbar": {
             "outlinewidth": 0,
             "ticks": ""
            },
            "type": "choropleth"
           }
          ],
          "contour": [
           {
            "colorbar": {
             "outlinewidth": 0,
             "ticks": ""
            },
            "colorscale": [
             [
              0,
              "#0d0887"
             ],
             [
              0.1111111111111111,
              "#46039f"
             ],
             [
              0.2222222222222222,
              "#7201a8"
             ],
             [
              0.3333333333333333,
              "#9c179e"
             ],
             [
              0.4444444444444444,
              "#bd3786"
             ],
             [
              0.5555555555555556,
              "#d8576b"
             ],
             [
              0.6666666666666666,
              "#ed7953"
             ],
             [
              0.7777777777777778,
              "#fb9f3a"
             ],
             [
              0.8888888888888888,
              "#fdca26"
             ],
             [
              1,
              "#f0f921"
             ]
            ],
            "type": "contour"
           }
          ],
          "contourcarpet": [
           {
            "colorbar": {
             "outlinewidth": 0,
             "ticks": ""
            },
            "type": "contourcarpet"
           }
          ],
          "heatmap": [
           {
            "colorbar": {
             "outlinewidth": 0,
             "ticks": ""
            },
            "colorscale": [
             [
              0,
              "#0d0887"
             ],
             [
              0.1111111111111111,
              "#46039f"
             ],
             [
              0.2222222222222222,
              "#7201a8"
             ],
             [
              0.3333333333333333,
              "#9c179e"
             ],
             [
              0.4444444444444444,
              "#bd3786"
             ],
             [
              0.5555555555555556,
              "#d8576b"
             ],
             [
              0.6666666666666666,
              "#ed7953"
             ],
             [
              0.7777777777777778,
              "#fb9f3a"
             ],
             [
              0.8888888888888888,
              "#fdca26"
             ],
             [
              1,
              "#f0f921"
             ]
            ],
            "type": "heatmap"
           }
          ],
          "histogram": [
           {
            "marker": {
             "pattern": {
              "fillmode": "overlay",
              "size": 10,
              "solidity": 0.2
             }
            },
            "type": "histogram"
           }
          ],
          "histogram2d": [
           {
            "colorbar": {
             "outlinewidth": 0,
             "ticks": ""
            },
            "colorscale": [
             [
              0,
              "#0d0887"
             ],
             [
              0.1111111111111111,
              "#46039f"
             ],
             [
              0.2222222222222222,
              "#7201a8"
             ],
             [
              0.3333333333333333,
              "#9c179e"
             ],
             [
              0.4444444444444444,
              "#bd3786"
             ],
             [
              0.5555555555555556,
              "#d8576b"
             ],
             [
              0.6666666666666666,
              "#ed7953"
             ],
             [
              0.7777777777777778,
              "#fb9f3a"
             ],
             [
              0.8888888888888888,
              "#fdca26"
             ],
             [
              1,
              "#f0f921"
             ]
            ],
            "type": "histogram2d"
           }
          ],
          "histogram2dcontour": [
           {
            "colorbar": {
             "outlinewidth": 0,
             "ticks": ""
            },
            "colorscale": [
             [
              0,
              "#0d0887"
             ],
             [
              0.1111111111111111,
              "#46039f"
             ],
             [
              0.2222222222222222,
              "#7201a8"
             ],
             [
              0.3333333333333333,
              "#9c179e"
             ],
             [
              0.4444444444444444,
              "#bd3786"
             ],
             [
              0.5555555555555556,
              "#d8576b"
             ],
             [
              0.6666666666666666,
              "#ed7953"
             ],
             [
              0.7777777777777778,
              "#fb9f3a"
             ],
             [
              0.8888888888888888,
              "#fdca26"
             ],
             [
              1,
              "#f0f921"
             ]
            ],
            "type": "histogram2dcontour"
           }
          ],
          "mesh3d": [
           {
            "colorbar": {
             "outlinewidth": 0,
             "ticks": ""
            },
            "type": "mesh3d"
           }
          ],
          "parcoords": [
           {
            "line": {
             "colorbar": {
              "outlinewidth": 0,
              "ticks": ""
             }
            },
            "type": "parcoords"
           }
          ],
          "pie": [
           {
            "automargin": true,
            "type": "pie"
           }
          ],
          "scatter": [
           {
            "fillpattern": {
             "fillmode": "overlay",
             "size": 10,
             "solidity": 0.2
            },
            "type": "scatter"
           }
          ],
          "scatter3d": [
           {
            "line": {
             "colorbar": {
              "outlinewidth": 0,
              "ticks": ""
             }
            },
            "marker": {
             "colorbar": {
              "outlinewidth": 0,
              "ticks": ""
             }
            },
            "type": "scatter3d"
           }
          ],
          "scattercarpet": [
           {
            "marker": {
             "colorbar": {
              "outlinewidth": 0,
              "ticks": ""
             }
            },
            "type": "scattercarpet"
           }
          ],
          "scattergeo": [
           {
            "marker": {
             "colorbar": {
              "outlinewidth": 0,
              "ticks": ""
             }
            },
            "type": "scattergeo"
           }
          ],
          "scattergl": [
           {
            "marker": {
             "colorbar": {
              "outlinewidth": 0,
              "ticks": ""
             }
            },
            "type": "scattergl"
           }
          ],
          "scattermap": [
           {
            "marker": {
             "colorbar": {
              "outlinewidth": 0,
              "ticks": ""
             }
            },
            "type": "scattermap"
           }
          ],
          "scattermapbox": [
           {
            "marker": {
             "colorbar": {
              "outlinewidth": 0,
              "ticks": ""
             }
            },
            "type": "scattermapbox"
           }
          ],
          "scatterpolar": [
           {
            "marker": {
             "colorbar": {
              "outlinewidth": 0,
              "ticks": ""
             }
            },
            "type": "scatterpolar"
           }
          ],
          "scatterpolargl": [
           {
            "marker": {
             "colorbar": {
              "outlinewidth": 0,
              "ticks": ""
             }
            },
            "type": "scatterpolargl"
           }
          ],
          "scatterternary": [
           {
            "marker": {
             "colorbar": {
              "outlinewidth": 0,
              "ticks": ""
             }
            },
            "type": "scatterternary"
           }
          ],
          "surface": [
           {
            "colorbar": {
             "outlinewidth": 0,
             "ticks": ""
            },
            "colorscale": [
             [
              0,
              "#0d0887"
             ],
             [
              0.1111111111111111,
              "#46039f"
             ],
             [
              0.2222222222222222,
              "#7201a8"
             ],
             [
              0.3333333333333333,
              "#9c179e"
             ],
             [
              0.4444444444444444,
              "#bd3786"
             ],
             [
              0.5555555555555556,
              "#d8576b"
             ],
             [
              0.6666666666666666,
              "#ed7953"
             ],
             [
              0.7777777777777778,
              "#fb9f3a"
             ],
             [
              0.8888888888888888,
              "#fdca26"
             ],
             [
              1,
              "#f0f921"
             ]
            ],
            "type": "surface"
           }
          ],
          "table": [
           {
            "cells": {
             "fill": {
              "color": "#EBF0F8"
             },
             "line": {
              "color": "white"
             }
            },
            "header": {
             "fill": {
              "color": "#C8D4E3"
             },
             "line": {
              "color": "white"
             }
            },
            "type": "table"
           }
          ]
         },
         "layout": {
          "annotationdefaults": {
           "arrowcolor": "#2a3f5f",
           "arrowhead": 0,
           "arrowwidth": 1
          },
          "autotypenumbers": "strict",
          "coloraxis": {
           "colorbar": {
            "outlinewidth": 0,
            "ticks": ""
           }
          },
          "colorscale": {
           "diverging": [
            [
             0,
             "#8e0152"
            ],
            [
             0.1,
             "#c51b7d"
            ],
            [
             0.2,
             "#de77ae"
            ],
            [
             0.3,
             "#f1b6da"
            ],
            [
             0.4,
             "#fde0ef"
            ],
            [
             0.5,
             "#f7f7f7"
            ],
            [
             0.6,
             "#e6f5d0"
            ],
            [
             0.7,
             "#b8e186"
            ],
            [
             0.8,
             "#7fbc41"
            ],
            [
             0.9,
             "#4d9221"
            ],
            [
             1,
             "#276419"
            ]
           ],
           "sequential": [
            [
             0,
             "#0d0887"
            ],
            [
             0.1111111111111111,
             "#46039f"
            ],
            [
             0.2222222222222222,
             "#7201a8"
            ],
            [
             0.3333333333333333,
             "#9c179e"
            ],
            [
             0.4444444444444444,
             "#bd3786"
            ],
            [
             0.5555555555555556,
             "#d8576b"
            ],
            [
             0.6666666666666666,
             "#ed7953"
            ],
            [
             0.7777777777777778,
             "#fb9f3a"
            ],
            [
             0.8888888888888888,
             "#fdca26"
            ],
            [
             1,
             "#f0f921"
            ]
           ],
           "sequentialminus": [
            [
             0,
             "#0d0887"
            ],
            [
             0.1111111111111111,
             "#46039f"
            ],
            [
             0.2222222222222222,
             "#7201a8"
            ],
            [
             0.3333333333333333,
             "#9c179e"
            ],
            [
             0.4444444444444444,
             "#bd3786"
            ],
            [
             0.5555555555555556,
             "#d8576b"
            ],
            [
             0.6666666666666666,
             "#ed7953"
            ],
            [
             0.7777777777777778,
             "#fb9f3a"
            ],
            [
             0.8888888888888888,
             "#fdca26"
            ],
            [
             1,
             "#f0f921"
            ]
           ]
          },
          "colorway": [
           "#636efa",
           "#EF553B",
           "#00cc96",
           "#ab63fa",
           "#FFA15A",
           "#19d3f3",
           "#FF6692",
           "#B6E880",
           "#FF97FF",
           "#FECB52"
          ],
          "font": {
           "color": "#2a3f5f"
          },
          "geo": {
           "bgcolor": "white",
           "lakecolor": "white",
           "landcolor": "#E5ECF6",
           "showlakes": true,
           "showland": true,
           "subunitcolor": "white"
          },
          "hoverlabel": {
           "align": "left"
          },
          "hovermode": "closest",
          "mapbox": {
           "style": "light"
          },
          "paper_bgcolor": "white",
          "plot_bgcolor": "#E5ECF6",
          "polar": {
           "angularaxis": {
            "gridcolor": "white",
            "linecolor": "white",
            "ticks": ""
           },
           "bgcolor": "#E5ECF6",
           "radialaxis": {
            "gridcolor": "white",
            "linecolor": "white",
            "ticks": ""
           }
          },
          "scene": {
           "xaxis": {
            "backgroundcolor": "#E5ECF6",
            "gridcolor": "white",
            "gridwidth": 2,
            "linecolor": "white",
            "showbackground": true,
            "ticks": "",
            "zerolinecolor": "white"
           },
           "yaxis": {
            "backgroundcolor": "#E5ECF6",
            "gridcolor": "white",
            "gridwidth": 2,
            "linecolor": "white",
            "showbackground": true,
            "ticks": "",
            "zerolinecolor": "white"
           },
           "zaxis": {
            "backgroundcolor": "#E5ECF6",
            "gridcolor": "white",
            "gridwidth": 2,
            "linecolor": "white",
            "showbackground": true,
            "ticks": "",
            "zerolinecolor": "white"
           }
          },
          "shapedefaults": {
           "line": {
            "color": "#2a3f5f"
           }
          },
          "ternary": {
           "aaxis": {
            "gridcolor": "white",
            "linecolor": "white",
            "ticks": ""
           },
           "baxis": {
            "gridcolor": "white",
            "linecolor": "white",
            "ticks": ""
           },
           "bgcolor": "#E5ECF6",
           "caxis": {
            "gridcolor": "white",
            "linecolor": "white",
            "ticks": ""
           }
          },
          "title": {
           "x": 0.05
          },
          "xaxis": {
           "automargin": true,
           "gridcolor": "white",
           "linecolor": "white",
           "ticks": "",
           "title": {
            "standoff": 15
           },
           "zerolinecolor": "white",
           "zerolinewidth": 2
          },
          "yaxis": {
           "automargin": true,
           "gridcolor": "white",
           "linecolor": "white",
           "ticks": "",
           "title": {
            "standoff": 15
           },
           "zerolinecolor": "white",
           "zerolinewidth": 2
          }
         }
        },
        "title": {
         "text": "Frecuencia de las 20 palabras más comunes"
        },
        "xaxis": {
         "anchor": "y",
         "domain": [
          0,
          1
         ],
         "title": {
          "text": "Rango"
         }
        },
        "yaxis": {
         "anchor": "x",
         "domain": [
          0,
          1
         ],
         "title": {
          "text": "Frecuencia"
         }
        }
       }
      }
     },
     "metadata": {},
     "output_type": "display_data"
    }
   ],
   "source": [
    "utils.interactive_word_plot(Counter(text2), top_n=20)"
   ]
  },
  {
   "cell_type": "code",
   "execution_count": 5,
   "id": "43287ed2",
   "metadata": {},
   "outputs": [
    {
     "ename": "TypeError",
     "evalue": "sequence item 190640: expected str instance, list found",
     "output_type": "error",
     "traceback": [
      "\u001b[0;31m---------------------------------------------------------------------------\u001b[0m",
      "\u001b[0;31mTypeError\u001b[0m                                 Traceback (most recent call last)",
      "Cell \u001b[0;32mIn[5], line 2\u001b[0m\n\u001b[1;32m      1\u001b[0m text1\u001b[38;5;241m.\u001b[39mappend(text2)\n\u001b[0;32m----> 2\u001b[0m v \u001b[38;5;241m=\u001b[39m \u001b[43mutils\u001b[49m\u001b[38;5;241;43m.\u001b[39;49m\u001b[43mcount_words\u001b[49m\u001b[43m(\u001b[49m\u001b[43mtext1\u001b[49m\u001b[43m)\u001b[49m\n\u001b[1;32m      3\u001b[0m v\n",
      "File \u001b[0;32m~/Documentos/Power_Law_NLP/utils/utils.py:70\u001b[0m, in \u001b[0;36mcount_words\u001b[0;34m(words)\u001b[0m\n\u001b[1;32m     62\u001b[0m \u001b[38;5;250m\u001b[39m\u001b[38;5;124;03m\"\"\"\u001b[39;00m\n\u001b[1;32m     63\u001b[0m \u001b[38;5;124;03mArgs:  \u001b[39;00m\n\u001b[1;32m     64\u001b[0m \u001b[38;5;124;03m    words: list, the array of words we want to count\u001b[39;00m\n\u001b[0;32m   (...)\u001b[0m\n\u001b[1;32m     67\u001b[0m \u001b[38;5;124;03m    v_sorted: dict, dictionary with the owrds and the number of times it repeats\u001b[39;00m\n\u001b[1;32m     68\u001b[0m \u001b[38;5;124;03m\"\"\"\u001b[39;00m\n\u001b[1;32m     69\u001b[0m \u001b[38;5;66;03m# join all the text using regular expressions\u001b[39;00m\n\u001b[0;32m---> 70\u001b[0m all_text \u001b[38;5;241m=\u001b[39m \u001b[38;5;124;43m'\u001b[39;49m\u001b[38;5;124;43m \u001b[39;49m\u001b[38;5;124;43m'\u001b[39;49m\u001b[38;5;241;43m.\u001b[39;49m\u001b[43mjoin\u001b[49m\u001b[43m(\u001b[49m\u001b[43mwords\u001b[49m\u001b[43m)\u001b[49m\u001b[38;5;241m.\u001b[39mlower()\n\u001b[1;32m     72\u001b[0m \u001b[38;5;66;03m# tokenize, divide in word using regular expresions\u001b[39;00m\n\u001b[1;32m     73\u001b[0m \u001b[38;5;66;03m#\\w+ finds all the words\u001b[39;00m\n\u001b[1;32m     74\u001b[0m text \u001b[38;5;241m=\u001b[39m re\u001b[38;5;241m.\u001b[39mfindall(\u001b[38;5;124mr\u001b[39m\u001b[38;5;124m'\u001b[39m\u001b[38;5;124m\\\u001b[39m\u001b[38;5;124mw+\u001b[39m\u001b[38;5;124m'\u001b[39m, all_text)\n",
      "\u001b[0;31mTypeError\u001b[0m: sequence item 190640: expected str instance, list found"
     ]
    }
   ],
   "source": [
    "text1.append(text2)\n",
    "v = utils.count_words(text1)\n",
    "v"
   ]
  },
  {
   "cell_type": "code",
   "execution_count": 14,
   "id": "6779b046",
   "metadata": {},
   "outputs": [],
   "source": [
    "text"
   ]
  },
  {
   "cell_type": "code",
   "execution_count": 11,
   "id": "92ad80d7",
   "metadata": {},
   "outputs": [],
   "source": [
    "utils.PDFtoTXT(\"data/biblia.pdf\")"
   ]
  },
  {
   "cell_type": "code",
   "execution_count": 10,
   "id": "ee783c5a",
   "metadata": {},
   "outputs": [
    {
     "data": {
      "text/plain": [
       "190640"
      ]
     },
     "execution_count": 10,
     "metadata": {},
     "output_type": "execute_result"
    }
   ],
   "source": [
    "len(text1)"
   ]
  },
  {
   "cell_type": "code",
   "execution_count": null,
   "id": "9bff8809",
   "metadata": {},
   "outputs": [],
   "source": [
    "import fitz\n",
    "doc = fitz.open(\"/data/DONQUIJOTE_PARTE1.pdf\")\n",
    "for page in doc:\n",
    "    print(page.get_text())\n"
   ]
  },
  {
   "cell_type": "markdown",
   "id": "ea975496",
   "metadata": {},
   "source": []
  },
  {
   "cell_type": "markdown",
   "id": "7ad77884",
   "metadata": {},
   "source": []
  }
 ],
 "metadata": {
  "kernelspec": {
   "display_name": "quijote",
   "language": "python",
   "name": "python3"
  },
  "language_info": {
   "codemirror_mode": {
    "name": "ipython",
    "version": 3
   },
   "file_extension": ".py",
   "mimetype": "text/x-python",
   "name": "python",
   "nbconvert_exporter": "python",
   "pygments_lexer": "ipython3",
   "version": "3.10.18"
  }
 },
 "nbformat": 4,
 "nbformat_minor": 5
}
